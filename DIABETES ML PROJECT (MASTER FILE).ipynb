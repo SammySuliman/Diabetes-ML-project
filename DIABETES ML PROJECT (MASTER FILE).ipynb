{
 "cells": [
  {
   "cell_type": "code",
   "execution_count": 1,
   "id": "77f44821",
   "metadata": {},
   "outputs": [],
   "source": [
    "import numpy as np\n",
    "import pandas as pd\n",
    "import matplotlib.pyplot as plt\n",
    "import seaborn as sns\n",
    "%matplotlib inline"
   ]
  },
  {
   "cell_type": "code",
   "execution_count": 2,
   "id": "0bc16bfd",
   "metadata": {},
   "outputs": [],
   "source": [
    "diabetes = pd.read_csv('diabetes_dataset__2019.csv')"
   ]
  },
  {
   "cell_type": "code",
   "execution_count": 3,
   "id": "ba1a04ee",
   "metadata": {},
   "outputs": [
    {
     "data": {
      "text/html": [
       "<div>\n",
       "<style scoped>\n",
       "    .dataframe tbody tr th:only-of-type {\n",
       "        vertical-align: middle;\n",
       "    }\n",
       "\n",
       "    .dataframe tbody tr th {\n",
       "        vertical-align: top;\n",
       "    }\n",
       "\n",
       "    .dataframe thead th {\n",
       "        text-align: right;\n",
       "    }\n",
       "</style>\n",
       "<table border=\"1\" class=\"dataframe\">\n",
       "  <thead>\n",
       "    <tr style=\"text-align: right;\">\n",
       "      <th></th>\n",
       "      <th>Age</th>\n",
       "      <th>Gender</th>\n",
       "      <th>Family_Diabetes</th>\n",
       "      <th>highBP</th>\n",
       "      <th>PhysicallyActive</th>\n",
       "      <th>BMI</th>\n",
       "      <th>Smoking</th>\n",
       "      <th>Alcohol</th>\n",
       "      <th>Sleep</th>\n",
       "      <th>SoundSleep</th>\n",
       "      <th>RegularMedicine</th>\n",
       "      <th>JunkFood</th>\n",
       "      <th>Stress</th>\n",
       "      <th>BPLevel</th>\n",
       "      <th>Pregancies</th>\n",
       "      <th>Pdiabetes</th>\n",
       "      <th>UriationFreq</th>\n",
       "      <th>Diabetic</th>\n",
       "    </tr>\n",
       "  </thead>\n",
       "  <tbody>\n",
       "    <tr>\n",
       "      <th>0</th>\n",
       "      <td>50-59</td>\n",
       "      <td>Male</td>\n",
       "      <td>no</td>\n",
       "      <td>yes</td>\n",
       "      <td>one hr or more</td>\n",
       "      <td>39.0</td>\n",
       "      <td>no</td>\n",
       "      <td>no</td>\n",
       "      <td>8</td>\n",
       "      <td>6</td>\n",
       "      <td>no</td>\n",
       "      <td>occasionally</td>\n",
       "      <td>sometimes</td>\n",
       "      <td>high</td>\n",
       "      <td>0.0</td>\n",
       "      <td>0</td>\n",
       "      <td>not much</td>\n",
       "      <td>no</td>\n",
       "    </tr>\n",
       "    <tr>\n",
       "      <th>1</th>\n",
       "      <td>50-59</td>\n",
       "      <td>Male</td>\n",
       "      <td>no</td>\n",
       "      <td>yes</td>\n",
       "      <td>less than half an hr</td>\n",
       "      <td>28.0</td>\n",
       "      <td>no</td>\n",
       "      <td>no</td>\n",
       "      <td>8</td>\n",
       "      <td>6</td>\n",
       "      <td>yes</td>\n",
       "      <td>very often</td>\n",
       "      <td>sometimes</td>\n",
       "      <td>normal</td>\n",
       "      <td>0.0</td>\n",
       "      <td>0</td>\n",
       "      <td>not much</td>\n",
       "      <td>no</td>\n",
       "    </tr>\n",
       "    <tr>\n",
       "      <th>2</th>\n",
       "      <td>40-49</td>\n",
       "      <td>Male</td>\n",
       "      <td>no</td>\n",
       "      <td>no</td>\n",
       "      <td>one hr or more</td>\n",
       "      <td>24.0</td>\n",
       "      <td>no</td>\n",
       "      <td>no</td>\n",
       "      <td>6</td>\n",
       "      <td>6</td>\n",
       "      <td>no</td>\n",
       "      <td>occasionally</td>\n",
       "      <td>sometimes</td>\n",
       "      <td>normal</td>\n",
       "      <td>0.0</td>\n",
       "      <td>0</td>\n",
       "      <td>not much</td>\n",
       "      <td>no</td>\n",
       "    </tr>\n",
       "    <tr>\n",
       "      <th>3</th>\n",
       "      <td>50-59</td>\n",
       "      <td>Male</td>\n",
       "      <td>no</td>\n",
       "      <td>no</td>\n",
       "      <td>one hr or more</td>\n",
       "      <td>23.0</td>\n",
       "      <td>no</td>\n",
       "      <td>no</td>\n",
       "      <td>8</td>\n",
       "      <td>6</td>\n",
       "      <td>no</td>\n",
       "      <td>occasionally</td>\n",
       "      <td>sometimes</td>\n",
       "      <td>normal</td>\n",
       "      <td>0.0</td>\n",
       "      <td>0</td>\n",
       "      <td>not much</td>\n",
       "      <td>no</td>\n",
       "    </tr>\n",
       "    <tr>\n",
       "      <th>4</th>\n",
       "      <td>40-49</td>\n",
       "      <td>Male</td>\n",
       "      <td>no</td>\n",
       "      <td>no</td>\n",
       "      <td>less than half an hr</td>\n",
       "      <td>27.0</td>\n",
       "      <td>no</td>\n",
       "      <td>no</td>\n",
       "      <td>8</td>\n",
       "      <td>8</td>\n",
       "      <td>no</td>\n",
       "      <td>occasionally</td>\n",
       "      <td>sometimes</td>\n",
       "      <td>normal</td>\n",
       "      <td>0.0</td>\n",
       "      <td>0</td>\n",
       "      <td>not much</td>\n",
       "      <td>no</td>\n",
       "    </tr>\n",
       "  </tbody>\n",
       "</table>\n",
       "</div>"
      ],
      "text/plain": [
       "     Age Gender Family_Diabetes highBP      PhysicallyActive   BMI Smoking  \\\n",
       "0  50-59   Male              no    yes        one hr or more  39.0      no   \n",
       "1  50-59   Male              no    yes  less than half an hr  28.0      no   \n",
       "2  40-49   Male              no     no        one hr or more  24.0      no   \n",
       "3  50-59   Male              no     no        one hr or more  23.0      no   \n",
       "4  40-49   Male              no     no  less than half an hr  27.0      no   \n",
       "\n",
       "  Alcohol  Sleep  SoundSleep RegularMedicine      JunkFood     Stress BPLevel  \\\n",
       "0      no      8           6              no  occasionally  sometimes    high   \n",
       "1      no      8           6             yes    very often  sometimes  normal   \n",
       "2      no      6           6              no  occasionally  sometimes  normal   \n",
       "3      no      8           6              no  occasionally  sometimes  normal   \n",
       "4      no      8           8              no  occasionally  sometimes  normal   \n",
       "\n",
       "   Pregancies Pdiabetes UriationFreq Diabetic  \n",
       "0         0.0         0     not much       no  \n",
       "1         0.0         0     not much       no  \n",
       "2         0.0         0     not much       no  \n",
       "3         0.0         0     not much       no  \n",
       "4         0.0         0     not much       no  "
      ]
     },
     "execution_count": 3,
     "metadata": {},
     "output_type": "execute_result"
    }
   ],
   "source": [
    "diabetes.head()"
   ]
  },
  {
   "cell_type": "code",
   "execution_count": 4,
   "id": "cb59a174",
   "metadata": {},
   "outputs": [
    {
     "name": "stdout",
     "output_type": "stream",
     "text": [
      "<class 'pandas.core.frame.DataFrame'>\n",
      "RangeIndex: 952 entries, 0 to 951\n",
      "Data columns (total 18 columns):\n",
      " #   Column            Non-Null Count  Dtype  \n",
      "---  ------            --------------  -----  \n",
      " 0   Age               952 non-null    object \n",
      " 1   Gender            952 non-null    object \n",
      " 2   Family_Diabetes   952 non-null    object \n",
      " 3   highBP            952 non-null    object \n",
      " 4   PhysicallyActive  952 non-null    object \n",
      " 5   BMI               948 non-null    float64\n",
      " 6   Smoking           952 non-null    object \n",
      " 7   Alcohol           952 non-null    object \n",
      " 8   Sleep             952 non-null    int64  \n",
      " 9   SoundSleep        952 non-null    int64  \n",
      " 10  RegularMedicine   952 non-null    object \n",
      " 11  JunkFood          952 non-null    object \n",
      " 12  Stress            952 non-null    object \n",
      " 13  BPLevel           952 non-null    object \n",
      " 14  Pregancies        910 non-null    float64\n",
      " 15  Pdiabetes         951 non-null    object \n",
      " 16  UriationFreq      952 non-null    object \n",
      " 17  Diabetic          951 non-null    object \n",
      "dtypes: float64(2), int64(2), object(14)\n",
      "memory usage: 134.0+ KB\n"
     ]
    }
   ],
   "source": [
    "diabetes.info()"
   ]
  },
  {
   "cell_type": "code",
   "execution_count": 5,
   "id": "9cbb3fc4",
   "metadata": {},
   "outputs": [
    {
     "data": {
      "text/html": [
       "<div>\n",
       "<style scoped>\n",
       "    .dataframe tbody tr th:only-of-type {\n",
       "        vertical-align: middle;\n",
       "    }\n",
       "\n",
       "    .dataframe tbody tr th {\n",
       "        vertical-align: top;\n",
       "    }\n",
       "\n",
       "    .dataframe thead th {\n",
       "        text-align: right;\n",
       "    }\n",
       "</style>\n",
       "<table border=\"1\" class=\"dataframe\">\n",
       "  <thead>\n",
       "    <tr style=\"text-align: right;\">\n",
       "      <th></th>\n",
       "      <th>BMI</th>\n",
       "      <th>Sleep</th>\n",
       "      <th>SoundSleep</th>\n",
       "      <th>Pregancies</th>\n",
       "    </tr>\n",
       "  </thead>\n",
       "  <tbody>\n",
       "    <tr>\n",
       "      <th>count</th>\n",
       "      <td>948.000000</td>\n",
       "      <td>952.000000</td>\n",
       "      <td>952.000000</td>\n",
       "      <td>910.000000</td>\n",
       "    </tr>\n",
       "    <tr>\n",
       "      <th>mean</th>\n",
       "      <td>25.763713</td>\n",
       "      <td>6.949580</td>\n",
       "      <td>5.495798</td>\n",
       "      <td>0.386813</td>\n",
       "    </tr>\n",
       "    <tr>\n",
       "      <th>std</th>\n",
       "      <td>5.402595</td>\n",
       "      <td>1.273189</td>\n",
       "      <td>1.865618</td>\n",
       "      <td>0.909455</td>\n",
       "    </tr>\n",
       "    <tr>\n",
       "      <th>min</th>\n",
       "      <td>15.000000</td>\n",
       "      <td>4.000000</td>\n",
       "      <td>0.000000</td>\n",
       "      <td>0.000000</td>\n",
       "    </tr>\n",
       "    <tr>\n",
       "      <th>25%</th>\n",
       "      <td>22.000000</td>\n",
       "      <td>6.000000</td>\n",
       "      <td>4.000000</td>\n",
       "      <td>0.000000</td>\n",
       "    </tr>\n",
       "    <tr>\n",
       "      <th>50%</th>\n",
       "      <td>25.000000</td>\n",
       "      <td>7.000000</td>\n",
       "      <td>6.000000</td>\n",
       "      <td>0.000000</td>\n",
       "    </tr>\n",
       "    <tr>\n",
       "      <th>75%</th>\n",
       "      <td>29.000000</td>\n",
       "      <td>8.000000</td>\n",
       "      <td>7.000000</td>\n",
       "      <td>0.000000</td>\n",
       "    </tr>\n",
       "    <tr>\n",
       "      <th>max</th>\n",
       "      <td>45.000000</td>\n",
       "      <td>11.000000</td>\n",
       "      <td>11.000000</td>\n",
       "      <td>4.000000</td>\n",
       "    </tr>\n",
       "  </tbody>\n",
       "</table>\n",
       "</div>"
      ],
      "text/plain": [
       "              BMI       Sleep  SoundSleep  Pregancies\n",
       "count  948.000000  952.000000  952.000000  910.000000\n",
       "mean    25.763713    6.949580    5.495798    0.386813\n",
       "std      5.402595    1.273189    1.865618    0.909455\n",
       "min     15.000000    4.000000    0.000000    0.000000\n",
       "25%     22.000000    6.000000    4.000000    0.000000\n",
       "50%     25.000000    7.000000    6.000000    0.000000\n",
       "75%     29.000000    8.000000    7.000000    0.000000\n",
       "max     45.000000   11.000000   11.000000    4.000000"
      ]
     },
     "execution_count": 5,
     "metadata": {},
     "output_type": "execute_result"
    }
   ],
   "source": [
    "diabetes.describe()"
   ]
  },
  {
   "cell_type": "code",
   "execution_count": 6,
   "id": "546acf28",
   "metadata": {},
   "outputs": [],
   "source": [
    "# DATA CLEANING"
   ]
  },
  {
   "cell_type": "code",
   "execution_count": 7,
   "id": "f8c8ecbf",
   "metadata": {
    "scrolled": true
   },
   "outputs": [
    {
     "data": {
      "text/plain": [
       "<AxesSubplot:>"
      ]
     },
     "execution_count": 7,
     "metadata": {},
     "output_type": "execute_result"
    },
    {
     "data": {
      "image/png": "[encoded data removed]",
      "text/plain": [
       "<Figure size 432x288 with 1 Axes>"
      ]
     },
     "metadata": {
      "needs_background": "light"
     },
     "output_type": "display_data"
    }
   ],
   "source": [
    "# get a picture for how much missing data we have\n",
    "sns.heatmap(diabetes.isnull(), yticklabels=False, cbar=False, cmap='viridis') \n",
    "# largely clustered in Pregnancies column\n",
    "# want to create a function to fill in missing values"
   ]
  },
  {
   "cell_type": "code",
   "execution_count": 8,
   "id": "e70bc88e",
   "metadata": {},
   "outputs": [
    {
     "data": {
      "text/plain": [
       "<AxesSubplot:xlabel='Age', ylabel='Pregancies'>"
      ]
     },
     "execution_count": 8,
     "metadata": {},
     "output_type": "execute_result"
    },
    {
     "data": {
      "image/png": "[encoded data removed]",
      "text/plain": [
       "<Figure size 432x288 with 1 Axes>"
      ]
     },
     "metadata": {
      "needs_background": "light"
     },
     "output_type": "display_data"
    }
   ],
   "source": [
    "# want to find avg num of pregnancies for diff age groups\n",
    "sns.boxplot(data = diabetes[diabetes['Gender'] == 'Female'], x='Age', y='Pregancies')"
   ]
  },
  {
   "cell_type": "code",
   "execution_count": 9,
   "id": "9b90fceb",
   "metadata": {},
   "outputs": [
    {
     "name": "stdout",
     "output_type": "stream",
     "text": [
      "mean number of pregnancies for ages less than 40 is 0.5748502994011976\n",
      "mean number of pregnacnices for ages 40-49 is 1.1176470588235294\n",
      "mean number of pregnancies for ages 50-59 is 1.0\n",
      "mean number of pregnancies for ages 60 or older is 2.0392156862745097\n"
     ]
    }
   ],
   "source": [
    "diabetes_fm = diabetes[diabetes['Gender'] == 'Female']\n",
    "diabetes_fm_40 = diabetes_fm[diabetes_fm['Age'] == 'less than 40']\n",
    "diabetes_fm_50 = diabetes_fm[diabetes_fm['Age'] == '40-49']\n",
    "diabetes_fm_60 = diabetes_fm[diabetes_fm['Age'] == '50-59']\n",
    "diabetes_fm_over60 = diabetes_fm[diabetes_fm['Age'] == '60 or older']\n",
    "print(f'mean number of pregnancies for ages less than 40 is', np.mean(diabetes_fm_40['Pregancies']))\n",
    "print(f'mean number of pregnacnices for ages 40-49 is', np.mean(diabetes_fm_50['Pregancies']))\n",
    "print(f'mean number of pregnancies for ages 50-59 is', np.mean(diabetes_fm_60['Pregancies']))\n",
    "print(f'mean number of pregnancies for ages 60 or older is', np.mean(diabetes_fm_over60['Pregancies']))\n",
    "# round off number of pregnancies to nearest whole number\n",
    "preg_40 = round(np.mean(diabetes_fm_40['Pregancies']))\n",
    "preg_50 = round(np.mean(diabetes_fm_50['Pregancies']))\n",
    "preg_60 = round(np.mean(diabetes_fm_60['Pregancies']))\n",
    "preg_over60 = round(np.mean(diabetes_fm_over60['Pregancies']))"
   ]
  },
  {
   "cell_type": "code",
   "execution_count": 10,
   "id": "9e7b9662",
   "metadata": {},
   "outputs": [],
   "source": [
    "#We create a function that replaces null values of pregnancies for each woman into the mean number of pregnancies \n",
    "# of the age group the woman is in\n",
    "def impute_pregnancy(df):\n",
    "    Age_group = df[0]\n",
    "    Gender = df[1]\n",
    "    num_of_pregnancies = df[2]\n",
    "    \n",
    "    if pd.isnull(num_of_pregnancies):\n",
    "        if Gender == 'Male':\n",
    "            return 0.0\n",
    "        elif Age_group == 'less than 40':\n",
    "            return preg_40\n",
    "        elif Age_group == '40-49':\n",
    "            return preg_50\n",
    "        elif Age_group == '50-59':\n",
    "            return preg_60\n",
    "        elif Age_group == '60 or older':\n",
    "            return preg_over60\n",
    "    else:\n",
    "        return num_of_pregnancies"
   ]
  },
  {
   "cell_type": "code",
   "execution_count": 11,
   "id": "95e6058f",
   "metadata": {},
   "outputs": [],
   "source": [
    "diabetes['Pregancies'] = diabetes[['Age','Gender','Pregancies']].apply(impute_pregnancy,axis=1)"
   ]
  },
  {
   "cell_type": "code",
   "execution_count": 12,
   "id": "63309e26",
   "metadata": {
    "scrolled": true
   },
   "outputs": [
    {
     "data": {
      "text/plain": [
       "<AxesSubplot:>"
      ]
     },
     "execution_count": 12,
     "metadata": {},
     "output_type": "execute_result"
    },
    {
     "data": {
      "image/png": "[encoded data removed]",
      "text/plain": [
       "<Figure size 432x288 with 1 Axes>"
      ]
     },
     "metadata": {
      "needs_background": "light"
     },
     "output_type": "display_data"
    }
   ],
   "source": [
    "sns.heatmap(diabetes.isnull(), yticklabels=False, cbar=False, cmap='viridis')\n",
    "# pregnancy nulls successfully removed"
   ]
  },
  {
   "cell_type": "code",
   "execution_count": 13,
   "id": "3df30d05",
   "metadata": {},
   "outputs": [],
   "source": [
    "# we want to replace categorical data into numeric counterparts so we can do data analysis\n",
    "\n",
    "diabetes['Gender'].replace(to_replace = ['Male', 'Female'], value = [0, 1], inplace = True)\n",
    "\n",
    "def binary_converter(cols):\n",
    "    Family_Diabetes = cols\n",
    "    \n",
    "    if Family_Diabetes == 'no':\n",
    "        return 0\n",
    "    elif Family_Diabetes == 'yes':\n",
    "        return 1\n",
    "def binary_converter2(cols):\n",
    "    Family_Diabetes = cols\n",
    "    \n",
    "    if Family_Diabetes == 'not much':\n",
    "        return 0\n",
    "    elif Family_Diabetes == 'quite often':\n",
    "        return 1"
   ]
  },
  {
   "cell_type": "code",
   "execution_count": 14,
   "id": "ff47382f",
   "metadata": {},
   "outputs": [],
   "source": [
    "diabetes['Family_Diabetes'] = diabetes['Family_Diabetes'].apply(binary_converter)\n",
    "diabetes['Smoking'] = diabetes['Smoking'].apply(binary_converter)\n",
    "diabetes['Alcohol'] = diabetes['Alcohol'].apply(binary_converter)\n",
    "diabetes['RegularMedicine'] = diabetes['RegularMedicine'].apply(binary_converter)\n",
    "diabetes['Diabetic'] = diabetes['Diabetic'].apply(binary_converter)\n",
    "diabetes['UriationFreq'] = diabetes['UriationFreq'].apply(binary_converter2)"
   ]
  },
  {
   "cell_type": "code",
   "execution_count": 15,
   "id": "ad2ac784",
   "metadata": {},
   "outputs": [
    {
     "data": {
      "text/html": [
       "<div>\n",
       "<style scoped>\n",
       "    .dataframe tbody tr th:only-of-type {\n",
       "        vertical-align: middle;\n",
       "    }\n",
       "\n",
       "    .dataframe tbody tr th {\n",
       "        vertical-align: top;\n",
       "    }\n",
       "\n",
       "    .dataframe thead th {\n",
       "        text-align: right;\n",
       "    }\n",
       "</style>\n",
       "<table border=\"1\" class=\"dataframe\">\n",
       "  <thead>\n",
       "    <tr style=\"text-align: right;\">\n",
       "      <th></th>\n",
       "      <th>Age</th>\n",
       "      <th>Gender</th>\n",
       "      <th>Family_Diabetes</th>\n",
       "      <th>highBP</th>\n",
       "      <th>PhysicallyActive</th>\n",
       "      <th>BMI</th>\n",
       "      <th>Smoking</th>\n",
       "      <th>Alcohol</th>\n",
       "      <th>Sleep</th>\n",
       "      <th>SoundSleep</th>\n",
       "      <th>RegularMedicine</th>\n",
       "      <th>JunkFood</th>\n",
       "      <th>Stress</th>\n",
       "      <th>BPLevel</th>\n",
       "      <th>Pregancies</th>\n",
       "      <th>Pdiabetes</th>\n",
       "      <th>UriationFreq</th>\n",
       "      <th>Diabetic</th>\n",
       "    </tr>\n",
       "  </thead>\n",
       "  <tbody>\n",
       "    <tr>\n",
       "      <th>0</th>\n",
       "      <td>50-59</td>\n",
       "      <td>0</td>\n",
       "      <td>0</td>\n",
       "      <td>yes</td>\n",
       "      <td>one hr or more</td>\n",
       "      <td>39.0</td>\n",
       "      <td>0</td>\n",
       "      <td>0</td>\n",
       "      <td>8</td>\n",
       "      <td>6</td>\n",
       "      <td>0.0</td>\n",
       "      <td>occasionally</td>\n",
       "      <td>sometimes</td>\n",
       "      <td>high</td>\n",
       "      <td>0.0</td>\n",
       "      <td>0</td>\n",
       "      <td>0</td>\n",
       "      <td>0.0</td>\n",
       "    </tr>\n",
       "    <tr>\n",
       "      <th>1</th>\n",
       "      <td>50-59</td>\n",
       "      <td>0</td>\n",
       "      <td>0</td>\n",
       "      <td>yes</td>\n",
       "      <td>less than half an hr</td>\n",
       "      <td>28.0</td>\n",
       "      <td>0</td>\n",
       "      <td>0</td>\n",
       "      <td>8</td>\n",
       "      <td>6</td>\n",
       "      <td>1.0</td>\n",
       "      <td>very often</td>\n",
       "      <td>sometimes</td>\n",
       "      <td>normal</td>\n",
       "      <td>0.0</td>\n",
       "      <td>0</td>\n",
       "      <td>0</td>\n",
       "      <td>0.0</td>\n",
       "    </tr>\n",
       "    <tr>\n",
       "      <th>2</th>\n",
       "      <td>40-49</td>\n",
       "      <td>0</td>\n",
       "      <td>0</td>\n",
       "      <td>no</td>\n",
       "      <td>one hr or more</td>\n",
       "      <td>24.0</td>\n",
       "      <td>0</td>\n",
       "      <td>0</td>\n",
       "      <td>6</td>\n",
       "      <td>6</td>\n",
       "      <td>0.0</td>\n",
       "      <td>occasionally</td>\n",
       "      <td>sometimes</td>\n",
       "      <td>normal</td>\n",
       "      <td>0.0</td>\n",
       "      <td>0</td>\n",
       "      <td>0</td>\n",
       "      <td>0.0</td>\n",
       "    </tr>\n",
       "    <tr>\n",
       "      <th>3</th>\n",
       "      <td>50-59</td>\n",
       "      <td>0</td>\n",
       "      <td>0</td>\n",
       "      <td>no</td>\n",
       "      <td>one hr or more</td>\n",
       "      <td>23.0</td>\n",
       "      <td>0</td>\n",
       "      <td>0</td>\n",
       "      <td>8</td>\n",
       "      <td>6</td>\n",
       "      <td>0.0</td>\n",
       "      <td>occasionally</td>\n",
       "      <td>sometimes</td>\n",
       "      <td>normal</td>\n",
       "      <td>0.0</td>\n",
       "      <td>0</td>\n",
       "      <td>0</td>\n",
       "      <td>0.0</td>\n",
       "    </tr>\n",
       "    <tr>\n",
       "      <th>4</th>\n",
       "      <td>40-49</td>\n",
       "      <td>0</td>\n",
       "      <td>0</td>\n",
       "      <td>no</td>\n",
       "      <td>less than half an hr</td>\n",
       "      <td>27.0</td>\n",
       "      <td>0</td>\n",
       "      <td>0</td>\n",
       "      <td>8</td>\n",
       "      <td>8</td>\n",
       "      <td>0.0</td>\n",
       "      <td>occasionally</td>\n",
       "      <td>sometimes</td>\n",
       "      <td>normal</td>\n",
       "      <td>0.0</td>\n",
       "      <td>0</td>\n",
       "      <td>0</td>\n",
       "      <td>0.0</td>\n",
       "    </tr>\n",
       "    <tr>\n",
       "      <th>5</th>\n",
       "      <td>40-49</td>\n",
       "      <td>0</td>\n",
       "      <td>0</td>\n",
       "      <td>yes</td>\n",
       "      <td>none</td>\n",
       "      <td>21.0</td>\n",
       "      <td>0</td>\n",
       "      <td>1</td>\n",
       "      <td>10</td>\n",
       "      <td>10</td>\n",
       "      <td>0.0</td>\n",
       "      <td>occasionally</td>\n",
       "      <td>sometimes</td>\n",
       "      <td>high</td>\n",
       "      <td>0.0</td>\n",
       "      <td>0</td>\n",
       "      <td>0</td>\n",
       "      <td>1.0</td>\n",
       "    </tr>\n",
       "    <tr>\n",
       "      <th>6</th>\n",
       "      <td>less than 40</td>\n",
       "      <td>0</td>\n",
       "      <td>0</td>\n",
       "      <td>no</td>\n",
       "      <td>one hr or more</td>\n",
       "      <td>24.0</td>\n",
       "      <td>0</td>\n",
       "      <td>0</td>\n",
       "      <td>8</td>\n",
       "      <td>8</td>\n",
       "      <td>0.0</td>\n",
       "      <td>occasionally</td>\n",
       "      <td>sometimes</td>\n",
       "      <td>normal</td>\n",
       "      <td>0.0</td>\n",
       "      <td>0</td>\n",
       "      <td>0</td>\n",
       "      <td>0.0</td>\n",
       "    </tr>\n",
       "    <tr>\n",
       "      <th>7</th>\n",
       "      <td>less than 40</td>\n",
       "      <td>0</td>\n",
       "      <td>0</td>\n",
       "      <td>no</td>\n",
       "      <td>less than half an hr</td>\n",
       "      <td>20.0</td>\n",
       "      <td>0</td>\n",
       "      <td>0</td>\n",
       "      <td>7</td>\n",
       "      <td>7</td>\n",
       "      <td>1.0</td>\n",
       "      <td>occasionally</td>\n",
       "      <td>sometimes</td>\n",
       "      <td>low</td>\n",
       "      <td>0.0</td>\n",
       "      <td>0</td>\n",
       "      <td>0</td>\n",
       "      <td>0.0</td>\n",
       "    </tr>\n",
       "    <tr>\n",
       "      <th>8</th>\n",
       "      <td>40-49</td>\n",
       "      <td>0</td>\n",
       "      <td>1</td>\n",
       "      <td>no</td>\n",
       "      <td>one hr or more</td>\n",
       "      <td>23.0</td>\n",
       "      <td>0</td>\n",
       "      <td>0</td>\n",
       "      <td>7</td>\n",
       "      <td>7</td>\n",
       "      <td>0.0</td>\n",
       "      <td>occasionally</td>\n",
       "      <td>sometimes</td>\n",
       "      <td>normal</td>\n",
       "      <td>0.0</td>\n",
       "      <td>0</td>\n",
       "      <td>0</td>\n",
       "      <td>0.0</td>\n",
       "    </tr>\n",
       "    <tr>\n",
       "      <th>9</th>\n",
       "      <td>less than 40</td>\n",
       "      <td>0</td>\n",
       "      <td>0</td>\n",
       "      <td>no</td>\n",
       "      <td>more than half an hr</td>\n",
       "      <td>20.0</td>\n",
       "      <td>0</td>\n",
       "      <td>0</td>\n",
       "      <td>8</td>\n",
       "      <td>8</td>\n",
       "      <td>NaN</td>\n",
       "      <td>occasionally</td>\n",
       "      <td>sometimes</td>\n",
       "      <td>normal</td>\n",
       "      <td>0.0</td>\n",
       "      <td>0</td>\n",
       "      <td>0</td>\n",
       "      <td>0.0</td>\n",
       "    </tr>\n",
       "    <tr>\n",
       "      <th>10</th>\n",
       "      <td>less than 40</td>\n",
       "      <td>0</td>\n",
       "      <td>0</td>\n",
       "      <td>no</td>\n",
       "      <td>none</td>\n",
       "      <td>20.0</td>\n",
       "      <td>0</td>\n",
       "      <td>0</td>\n",
       "      <td>7</td>\n",
       "      <td>7</td>\n",
       "      <td>0.0</td>\n",
       "      <td>occasionally</td>\n",
       "      <td>not at all</td>\n",
       "      <td>normal</td>\n",
       "      <td>0.0</td>\n",
       "      <td>0</td>\n",
       "      <td>0</td>\n",
       "      <td>0.0</td>\n",
       "    </tr>\n",
       "    <tr>\n",
       "      <th>11</th>\n",
       "      <td>40-49</td>\n",
       "      <td>0</td>\n",
       "      <td>0</td>\n",
       "      <td>no</td>\n",
       "      <td>less than half an hr</td>\n",
       "      <td>26.0</td>\n",
       "      <td>1</td>\n",
       "      <td>0</td>\n",
       "      <td>8</td>\n",
       "      <td>7</td>\n",
       "      <td>0.0</td>\n",
       "      <td>occasionally</td>\n",
       "      <td>sometimes</td>\n",
       "      <td>normal</td>\n",
       "      <td>0.0</td>\n",
       "      <td>0</td>\n",
       "      <td>0</td>\n",
       "      <td>0.0</td>\n",
       "    </tr>\n",
       "    <tr>\n",
       "      <th>12</th>\n",
       "      <td>less than 40</td>\n",
       "      <td>1</td>\n",
       "      <td>0</td>\n",
       "      <td>no</td>\n",
       "      <td>less than half an hr</td>\n",
       "      <td>21.0</td>\n",
       "      <td>0</td>\n",
       "      <td>0</td>\n",
       "      <td>6</td>\n",
       "      <td>6</td>\n",
       "      <td>0.0</td>\n",
       "      <td>occasionally</td>\n",
       "      <td>sometimes</td>\n",
       "      <td>normal</td>\n",
       "      <td>1.0</td>\n",
       "      <td>0</td>\n",
       "      <td>0</td>\n",
       "      <td>0.0</td>\n",
       "    </tr>\n",
       "    <tr>\n",
       "      <th>13</th>\n",
       "      <td>less than 40</td>\n",
       "      <td>1</td>\n",
       "      <td>0</td>\n",
       "      <td>no</td>\n",
       "      <td>one hr or more</td>\n",
       "      <td>22.0</td>\n",
       "      <td>0</td>\n",
       "      <td>0</td>\n",
       "      <td>8</td>\n",
       "      <td>7</td>\n",
       "      <td>0.0</td>\n",
       "      <td>occasionally</td>\n",
       "      <td>very often</td>\n",
       "      <td>normal</td>\n",
       "      <td>2.0</td>\n",
       "      <td>0</td>\n",
       "      <td>0</td>\n",
       "      <td>0.0</td>\n",
       "    </tr>\n",
       "    <tr>\n",
       "      <th>14</th>\n",
       "      <td>less than 40</td>\n",
       "      <td>0</td>\n",
       "      <td>0</td>\n",
       "      <td>no</td>\n",
       "      <td>one hr or more</td>\n",
       "      <td>15.0</td>\n",
       "      <td>0</td>\n",
       "      <td>0</td>\n",
       "      <td>7</td>\n",
       "      <td>7</td>\n",
       "      <td>0.0</td>\n",
       "      <td>occasionally</td>\n",
       "      <td>very often</td>\n",
       "      <td>normal</td>\n",
       "      <td>0.0</td>\n",
       "      <td>0</td>\n",
       "      <td>0</td>\n",
       "      <td>0.0</td>\n",
       "    </tr>\n",
       "    <tr>\n",
       "      <th>15</th>\n",
       "      <td>40-49</td>\n",
       "      <td>1</td>\n",
       "      <td>1</td>\n",
       "      <td>no</td>\n",
       "      <td>none</td>\n",
       "      <td>34.0</td>\n",
       "      <td>0</td>\n",
       "      <td>0</td>\n",
       "      <td>6</td>\n",
       "      <td>6</td>\n",
       "      <td>0.0</td>\n",
       "      <td>occasionally</td>\n",
       "      <td>sometimes</td>\n",
       "      <td>normal</td>\n",
       "      <td>3.0</td>\n",
       "      <td>0</td>\n",
       "      <td>0</td>\n",
       "      <td>0.0</td>\n",
       "    </tr>\n",
       "    <tr>\n",
       "      <th>16</th>\n",
       "      <td>50-59</td>\n",
       "      <td>0</td>\n",
       "      <td>1</td>\n",
       "      <td>no</td>\n",
       "      <td>more than half an hr</td>\n",
       "      <td>22.0</td>\n",
       "      <td>0</td>\n",
       "      <td>0</td>\n",
       "      <td>7</td>\n",
       "      <td>6</td>\n",
       "      <td>0.0</td>\n",
       "      <td>occasionally</td>\n",
       "      <td>sometimes</td>\n",
       "      <td>normal</td>\n",
       "      <td>0.0</td>\n",
       "      <td>0</td>\n",
       "      <td>0</td>\n",
       "      <td>0.0</td>\n",
       "    </tr>\n",
       "    <tr>\n",
       "      <th>17</th>\n",
       "      <td>less than 40</td>\n",
       "      <td>1</td>\n",
       "      <td>0</td>\n",
       "      <td>no</td>\n",
       "      <td>more than half an hr</td>\n",
       "      <td>24.0</td>\n",
       "      <td>0</td>\n",
       "      <td>0</td>\n",
       "      <td>6</td>\n",
       "      <td>6</td>\n",
       "      <td>0.0</td>\n",
       "      <td>occasionally</td>\n",
       "      <td>sometimes</td>\n",
       "      <td>normal</td>\n",
       "      <td>2.0</td>\n",
       "      <td>0</td>\n",
       "      <td>1</td>\n",
       "      <td>NaN</td>\n",
       "    </tr>\n",
       "    <tr>\n",
       "      <th>18</th>\n",
       "      <td>40-49</td>\n",
       "      <td>0</td>\n",
       "      <td>1</td>\n",
       "      <td>no</td>\n",
       "      <td>one hr or more</td>\n",
       "      <td>24.0</td>\n",
       "      <td>0</td>\n",
       "      <td>0</td>\n",
       "      <td>11</td>\n",
       "      <td>11</td>\n",
       "      <td>0.0</td>\n",
       "      <td>occasionally</td>\n",
       "      <td>sometimes</td>\n",
       "      <td>normal</td>\n",
       "      <td>0.0</td>\n",
       "      <td>0</td>\n",
       "      <td>0</td>\n",
       "      <td>0.0</td>\n",
       "    </tr>\n",
       "    <tr>\n",
       "      <th>19</th>\n",
       "      <td>less than 40</td>\n",
       "      <td>0</td>\n",
       "      <td>1</td>\n",
       "      <td>no</td>\n",
       "      <td>one hr or more</td>\n",
       "      <td>22.0</td>\n",
       "      <td>0</td>\n",
       "      <td>0</td>\n",
       "      <td>8</td>\n",
       "      <td>6</td>\n",
       "      <td>0.0</td>\n",
       "      <td>often</td>\n",
       "      <td>not at all</td>\n",
       "      <td>normal</td>\n",
       "      <td>0.0</td>\n",
       "      <td>0</td>\n",
       "      <td>0</td>\n",
       "      <td>0.0</td>\n",
       "    </tr>\n",
       "  </tbody>\n",
       "</table>\n",
       "</div>"
      ],
      "text/plain": [
       "             Age  Gender  Family_Diabetes highBP      PhysicallyActive   BMI  \\\n",
       "0          50-59       0                0    yes        one hr or more  39.0   \n",
       "1          50-59       0                0    yes  less than half an hr  28.0   \n",
       "2          40-49       0                0     no        one hr or more  24.0   \n",
       "3          50-59       0                0     no        one hr or more  23.0   \n",
       "4          40-49       0                0     no  less than half an hr  27.0   \n",
       "5          40-49       0                0    yes                  none  21.0   \n",
       "6   less than 40       0                0     no        one hr or more  24.0   \n",
       "7   less than 40       0                0     no  less than half an hr  20.0   \n",
       "8          40-49       0                1     no        one hr or more  23.0   \n",
       "9   less than 40       0                0     no  more than half an hr  20.0   \n",
       "10  less than 40       0                0     no                  none  20.0   \n",
       "11         40-49       0                0     no  less than half an hr  26.0   \n",
       "12  less than 40       1                0     no  less than half an hr  21.0   \n",
       "13  less than 40       1                0     no        one hr or more  22.0   \n",
       "14  less than 40       0                0     no        one hr or more  15.0   \n",
       "15         40-49       1                1     no                  none  34.0   \n",
       "16         50-59       0                1     no  more than half an hr  22.0   \n",
       "17  less than 40       1                0     no  more than half an hr  24.0   \n",
       "18         40-49       0                1     no        one hr or more  24.0   \n",
       "19  less than 40       0                1     no        one hr or more  22.0   \n",
       "\n",
       "    Smoking  Alcohol  Sleep  SoundSleep  RegularMedicine      JunkFood  \\\n",
       "0         0        0      8           6              0.0  occasionally   \n",
       "1         0        0      8           6              1.0    very often   \n",
       "2         0        0      6           6              0.0  occasionally   \n",
       "3         0        0      8           6              0.0  occasionally   \n",
       "4         0        0      8           8              0.0  occasionally   \n",
       "5         0        1     10          10              0.0  occasionally   \n",
       "6         0        0      8           8              0.0  occasionally   \n",
       "7         0        0      7           7              1.0  occasionally   \n",
       "8         0        0      7           7              0.0  occasionally   \n",
       "9         0        0      8           8              NaN  occasionally   \n",
       "10        0        0      7           7              0.0  occasionally   \n",
       "11        1        0      8           7              0.0  occasionally   \n",
       "12        0        0      6           6              0.0  occasionally   \n",
       "13        0        0      8           7              0.0  occasionally   \n",
       "14        0        0      7           7              0.0  occasionally   \n",
       "15        0        0      6           6              0.0  occasionally   \n",
       "16        0        0      7           6              0.0  occasionally   \n",
       "17        0        0      6           6              0.0  occasionally   \n",
       "18        0        0     11          11              0.0  occasionally   \n",
       "19        0        0      8           6              0.0         often   \n",
       "\n",
       "        Stress BPLevel  Pregancies Pdiabetes  UriationFreq  Diabetic  \n",
       "0    sometimes    high         0.0         0             0       0.0  \n",
       "1    sometimes  normal         0.0         0             0       0.0  \n",
       "2    sometimes  normal         0.0         0             0       0.0  \n",
       "3    sometimes  normal         0.0         0             0       0.0  \n",
       "4    sometimes  normal         0.0         0             0       0.0  \n",
       "5    sometimes    high         0.0         0             0       1.0  \n",
       "6    sometimes  normal         0.0         0             0       0.0  \n",
       "7    sometimes     low         0.0         0             0       0.0  \n",
       "8    sometimes  normal         0.0         0             0       0.0  \n",
       "9    sometimes  normal         0.0         0             0       0.0  \n",
       "10  not at all  normal         0.0         0             0       0.0  \n",
       "11   sometimes  normal         0.0         0             0       0.0  \n",
       "12   sometimes  normal         1.0         0             0       0.0  \n",
       "13  very often  normal         2.0         0             0       0.0  \n",
       "14  very often  normal         0.0         0             0       0.0  \n",
       "15   sometimes  normal         3.0         0             0       0.0  \n",
       "16   sometimes  normal         0.0         0             0       0.0  \n",
       "17   sometimes  normal         2.0         0             1       NaN  \n",
       "18   sometimes  normal         0.0         0             0       0.0  \n",
       "19  not at all  normal         0.0         0             0       0.0  "
      ]
     },
     "execution_count": 15,
     "metadata": {},
     "output_type": "execute_result"
    }
   ],
   "source": [
    "diabetes.head(20)\n",
    "#diabetes.describe()"
   ]
  },
  {
   "cell_type": "code",
   "execution_count": 16,
   "id": "219c9061",
   "metadata": {},
   "outputs": [],
   "source": [
    "# highBP column largely extraneous given BPlevel column... drop from dataset\n",
    "diabetes.drop(['highBP'], axis = 1, inplace=True)"
   ]
  },
  {
   "cell_type": "code",
   "execution_count": 17,
   "id": "dcf97a9f",
   "metadata": {},
   "outputs": [
    {
     "data": {
      "text/plain": [
       "0      578\n",
       "yes      1\n",
       "Name: Pdiabetes, dtype: int64"
      ]
     },
     "execution_count": 17,
     "metadata": {},
     "output_type": "execute_result"
    }
   ],
   "source": [
    "diabetes[diabetes['Gender']==0]['Pdiabetes'].value_counts()\n",
    "#Oops, why there is a male patient who has gestational diabetes? We will drop this from our dataset"
   ]
  },
  {
   "cell_type": "code",
   "execution_count": 18,
   "id": "165fe861",
   "metadata": {},
   "outputs": [],
   "source": [
    "diabetes.drop(diabetes[(diabetes['Gender']==0) & (diabetes['Pdiabetes']==1)].index,inplace=True)"
   ]
  },
  {
   "cell_type": "code",
   "execution_count": 19,
   "id": "9be0ac6f",
   "metadata": {},
   "outputs": [
    {
     "data": {
      "text/plain": [
       "normal     707\n",
       "high       211\n",
       "low         25\n",
       "High         5\n",
       "Low          3\n",
       "normal       1\n",
       "Name: BPLevel, dtype: int64"
      ]
     },
     "execution_count": 19,
     "metadata": {},
     "output_type": "execute_result"
    }
   ],
   "source": [
    "diabetes['BPLevel'].nunique()\n",
    "diabetes['BPLevel'].value_counts()"
   ]
  },
  {
   "cell_type": "code",
   "execution_count": 20,
   "id": "362a0d41",
   "metadata": {},
   "outputs": [],
   "source": [
    "# it looks like not all of our textual data is in the format we want... write a function to homogenize BPLevel\n",
    "def lowerupper(col):\n",
    "    if col == 'Low':\n",
    "        return 'low'\n",
    "    elif col == 'High':\n",
    "        return 'high'\n",
    "    elif col == 'normal ':\n",
    "        return 'normal'\n",
    "    else:\n",
    "        return col\n",
    "    \n",
    "def lowerupper2(col):\n",
    "    if col == 'no ':\n",
    "        return 'no'\n",
    "    elif col == ' no':\n",
    "        return 'no'\n",
    "    else:\n",
    "        return col"
   ]
  },
  {
   "cell_type": "code",
   "execution_count": 21,
   "id": "29188278",
   "metadata": {},
   "outputs": [],
   "source": [
    "diabetes['BPLevel'] = diabetes['BPLevel'].apply(lowerupper)\n",
    "diabetes['Diabetic'] = diabetes['Diabetic'].apply(lowerupper2)"
   ]
  },
  {
   "cell_type": "code",
   "execution_count": 22,
   "id": "dca0d894",
   "metadata": {},
   "outputs": [
    {
     "data": {
      "text/plain": [
       "4"
      ]
     },
     "execution_count": 22,
     "metadata": {},
     "output_type": "execute_result"
    }
   ],
   "source": [
    "diabetes['JunkFood'].nunique()"
   ]
  },
  {
   "cell_type": "code",
   "execution_count": 23,
   "id": "1d4716d7",
   "metadata": {},
   "outputs": [
    {
     "data": {
      "text/plain": [
       "occasionally    672\n",
       "often           184\n",
       "very often       52\n",
       "always           44\n",
       "Name: JunkFood, dtype: int64"
      ]
     },
     "execution_count": 23,
     "metadata": {},
     "output_type": "execute_result"
    }
   ],
   "source": [
    "diabetes['JunkFood'].value_counts()"
   ]
  },
  {
   "cell_type": "code",
   "execution_count": 24,
   "id": "6d2ff3e0",
   "metadata": {},
   "outputs": [
    {
     "data": {
      "text/plain": [
       "4"
      ]
     },
     "execution_count": 24,
     "metadata": {},
     "output_type": "execute_result"
    }
   ],
   "source": [
    "diabetes['Stress'].nunique()"
   ]
  },
  {
   "cell_type": "code",
   "execution_count": 25,
   "id": "549baad7",
   "metadata": {},
   "outputs": [
    {
     "data": {
      "text/plain": [
       "sometimes     564\n",
       "very often    164\n",
       "not at all    136\n",
       "always         88\n",
       "Name: Stress, dtype: int64"
      ]
     },
     "execution_count": 25,
     "metadata": {},
     "output_type": "execute_result"
    }
   ],
   "source": [
    "diabetes['Stress'].value_counts()"
   ]
  },
  {
   "cell_type": "code",
   "execution_count": 26,
   "id": "6e0a7d63",
   "metadata": {},
   "outputs": [
    {
     "data": {
      "text/plain": [
       "4"
      ]
     },
     "execution_count": 26,
     "metadata": {},
     "output_type": "execute_result"
    }
   ],
   "source": [
    "diabetes['PhysicallyActive'].nunique()"
   ]
  },
  {
   "cell_type": "code",
   "execution_count": 27,
   "id": "5692cf47",
   "metadata": {},
   "outputs": [
    {
     "data": {
      "text/plain": [
       "less than half an hr    336\n",
       "more than half an hr    272\n",
       "one hr or more          212\n",
       "none                    132\n",
       "Name: PhysicallyActive, dtype: int64"
      ]
     },
     "execution_count": 27,
     "metadata": {},
     "output_type": "execute_result"
    }
   ],
   "source": [
    "diabetes['PhysicallyActive'].value_counts()"
   ]
  },
  {
   "cell_type": "code",
   "execution_count": 28,
   "id": "9dfd3151",
   "metadata": {},
   "outputs": [
    {
     "data": {
      "text/plain": [
       "4"
      ]
     },
     "execution_count": 28,
     "metadata": {},
     "output_type": "execute_result"
    }
   ],
   "source": [
    "diabetes['Age'].nunique()"
   ]
  },
  {
   "cell_type": "code",
   "execution_count": 29,
   "id": "a0a973f3",
   "metadata": {},
   "outputs": [
    {
     "data": {
      "text/plain": [
       "less than 40    488\n",
       "40-49           164\n",
       "50-59           156\n",
       "60 or older     144\n",
       "Name: Age, dtype: int64"
      ]
     },
     "execution_count": 29,
     "metadata": {},
     "output_type": "execute_result"
    }
   ],
   "source": [
    "diabetes['Age'].value_counts()"
   ]
  },
  {
   "cell_type": "code",
   "execution_count": 30,
   "id": "71416188",
   "metadata": {},
   "outputs": [],
   "source": [
    "BP_level = pd.get_dummies(diabetes['BPLevel'], drop_first = True)\n",
    "diabetes.drop(['BPLevel'], axis=1, inplace = True)\n",
    "diabetes = pd.concat([diabetes, BP_level], axis = 1)\n",
    "\n",
    "Stress = pd.get_dummies(diabetes['Stress'], drop_first = True)\n",
    "diabetes.drop(['Stress'], axis = 1, inplace = True)\n",
    "diabetes = pd.concat([diabetes, Stress], axis = 1)\n",
    "\n",
    "JunkFood = pd.get_dummies(diabetes['JunkFood'], drop_first = True)\n",
    "diabetes.drop(['JunkFood'], axis = 1, inplace = True)\n",
    "diabetes = pd.concat([diabetes, JunkFood], axis = 1)\n",
    "\n",
    "PhysicallyActive = pd.get_dummies(diabetes['PhysicallyActive'], drop_first = True)\n",
    "diabetes.drop(['PhysicallyActive'], axis = 1, inplace = True)\n",
    "diabetes = pd.concat([diabetes, PhysicallyActive], axis = 1)\n",
    "\n",
    "Age = pd.get_dummies(diabetes['Age'], drop_first = True)\n",
    "diabetes.drop(['Age'], axis = 1, inplace = True)\n",
    "diabetes = pd.concat([diabetes, Age], axis = 1)"
   ]
  },
  {
   "cell_type": "code",
   "execution_count": 31,
   "id": "a1b81168",
   "metadata": {},
   "outputs": [
    {
     "data": {
      "text/html": [
       "<div>\n",
       "<style scoped>\n",
       "    .dataframe tbody tr th:only-of-type {\n",
       "        vertical-align: middle;\n",
       "    }\n",
       "\n",
       "    .dataframe tbody tr th {\n",
       "        vertical-align: top;\n",
       "    }\n",
       "\n",
       "    .dataframe thead th {\n",
       "        text-align: right;\n",
       "    }\n",
       "</style>\n",
       "<table border=\"1\" class=\"dataframe\">\n",
       "  <thead>\n",
       "    <tr style=\"text-align: right;\">\n",
       "      <th></th>\n",
       "      <th>Gender</th>\n",
       "      <th>Family_Diabetes</th>\n",
       "      <th>BMI</th>\n",
       "      <th>Smoking</th>\n",
       "      <th>Alcohol</th>\n",
       "      <th>Sleep</th>\n",
       "      <th>SoundSleep</th>\n",
       "      <th>RegularMedicine</th>\n",
       "      <th>Pregancies</th>\n",
       "      <th>Pdiabetes</th>\n",
       "      <th>UriationFreq</th>\n",
       "      <th>Diabetic</th>\n",
       "      <th>low</th>\n",
       "      <th>normal</th>\n",
       "      <th>not at all</th>\n",
       "      <th>sometimes</th>\n",
       "      <th>very often</th>\n",
       "      <th>occasionally</th>\n",
       "      <th>often</th>\n",
       "      <th>very often</th>\n",
       "      <th>more than half an hr</th>\n",
       "      <th>none</th>\n",
       "      <th>one hr or more</th>\n",
       "      <th>50-59</th>\n",
       "      <th>60 or older</th>\n",
       "      <th>less than 40</th>\n",
       "    </tr>\n",
       "  </thead>\n",
       "  <tbody>\n",
       "    <tr>\n",
       "      <th>0</th>\n",
       "      <td>0</td>\n",
       "      <td>0</td>\n",
       "      <td>39.0</td>\n",
       "      <td>0</td>\n",
       "      <td>0</td>\n",
       "      <td>8</td>\n",
       "      <td>6</td>\n",
       "      <td>0.0</td>\n",
       "      <td>0.0</td>\n",
       "      <td>0</td>\n",
       "      <td>0</td>\n",
       "      <td>0.0</td>\n",
       "      <td>0</td>\n",
       "      <td>0</td>\n",
       "      <td>0</td>\n",
       "      <td>1</td>\n",
       "      <td>0</td>\n",
       "      <td>1</td>\n",
       "      <td>0</td>\n",
       "      <td>0</td>\n",
       "      <td>0</td>\n",
       "      <td>0</td>\n",
       "      <td>1</td>\n",
       "      <td>1</td>\n",
       "      <td>0</td>\n",
       "      <td>0</td>\n",
       "    </tr>\n",
       "    <tr>\n",
       "      <th>1</th>\n",
       "      <td>0</td>\n",
       "      <td>0</td>\n",
       "      <td>28.0</td>\n",
       "      <td>0</td>\n",
       "      <td>0</td>\n",
       "      <td>8</td>\n",
       "      <td>6</td>\n",
       "      <td>1.0</td>\n",
       "      <td>0.0</td>\n",
       "      <td>0</td>\n",
       "      <td>0</td>\n",
       "      <td>0.0</td>\n",
       "      <td>0</td>\n",
       "      <td>1</td>\n",
       "      <td>0</td>\n",
       "      <td>1</td>\n",
       "      <td>0</td>\n",
       "      <td>0</td>\n",
       "      <td>0</td>\n",
       "      <td>1</td>\n",
       "      <td>0</td>\n",
       "      <td>0</td>\n",
       "      <td>0</td>\n",
       "      <td>1</td>\n",
       "      <td>0</td>\n",
       "      <td>0</td>\n",
       "    </tr>\n",
       "    <tr>\n",
       "      <th>2</th>\n",
       "      <td>0</td>\n",
       "      <td>0</td>\n",
       "      <td>24.0</td>\n",
       "      <td>0</td>\n",
       "      <td>0</td>\n",
       "      <td>6</td>\n",
       "      <td>6</td>\n",
       "      <td>0.0</td>\n",
       "      <td>0.0</td>\n",
       "      <td>0</td>\n",
       "      <td>0</td>\n",
       "      <td>0.0</td>\n",
       "      <td>0</td>\n",
       "      <td>1</td>\n",
       "      <td>0</td>\n",
       "      <td>1</td>\n",
       "      <td>0</td>\n",
       "      <td>1</td>\n",
       "      <td>0</td>\n",
       "      <td>0</td>\n",
       "      <td>0</td>\n",
       "      <td>0</td>\n",
       "      <td>1</td>\n",
       "      <td>0</td>\n",
       "      <td>0</td>\n",
       "      <td>0</td>\n",
       "    </tr>\n",
       "    <tr>\n",
       "      <th>3</th>\n",
       "      <td>0</td>\n",
       "      <td>0</td>\n",
       "      <td>23.0</td>\n",
       "      <td>0</td>\n",
       "      <td>0</td>\n",
       "      <td>8</td>\n",
       "      <td>6</td>\n",
       "      <td>0.0</td>\n",
       "      <td>0.0</td>\n",
       "      <td>0</td>\n",
       "      <td>0</td>\n",
       "      <td>0.0</td>\n",
       "      <td>0</td>\n",
       "      <td>1</td>\n",
       "      <td>0</td>\n",
       "      <td>1</td>\n",
       "      <td>0</td>\n",
       "      <td>1</td>\n",
       "      <td>0</td>\n",
       "      <td>0</td>\n",
       "      <td>0</td>\n",
       "      <td>0</td>\n",
       "      <td>1</td>\n",
       "      <td>1</td>\n",
       "      <td>0</td>\n",
       "      <td>0</td>\n",
       "    </tr>\n",
       "    <tr>\n",
       "      <th>4</th>\n",
       "      <td>0</td>\n",
       "      <td>0</td>\n",
       "      <td>27.0</td>\n",
       "      <td>0</td>\n",
       "      <td>0</td>\n",
       "      <td>8</td>\n",
       "      <td>8</td>\n",
       "      <td>0.0</td>\n",
       "      <td>0.0</td>\n",
       "      <td>0</td>\n",
       "      <td>0</td>\n",
       "      <td>0.0</td>\n",
       "      <td>0</td>\n",
       "      <td>1</td>\n",
       "      <td>0</td>\n",
       "      <td>1</td>\n",
       "      <td>0</td>\n",
       "      <td>1</td>\n",
       "      <td>0</td>\n",
       "      <td>0</td>\n",
       "      <td>0</td>\n",
       "      <td>0</td>\n",
       "      <td>0</td>\n",
       "      <td>0</td>\n",
       "      <td>0</td>\n",
       "      <td>0</td>\n",
       "    </tr>\n",
       "  </tbody>\n",
       "</table>\n",
       "</div>"
      ],
      "text/plain": [
       "   Gender  Family_Diabetes   BMI  Smoking  Alcohol  Sleep  SoundSleep  \\\n",
       "0       0                0  39.0        0        0      8           6   \n",
       "1       0                0  28.0        0        0      8           6   \n",
       "2       0                0  24.0        0        0      6           6   \n",
       "3       0                0  23.0        0        0      8           6   \n",
       "4       0                0  27.0        0        0      8           8   \n",
       "\n",
       "   RegularMedicine  Pregancies Pdiabetes  UriationFreq  Diabetic  low  normal  \\\n",
       "0              0.0         0.0         0             0       0.0    0       0   \n",
       "1              1.0         0.0         0             0       0.0    0       1   \n",
       "2              0.0         0.0         0             0       0.0    0       1   \n",
       "3              0.0         0.0         0             0       0.0    0       1   \n",
       "4              0.0         0.0         0             0       0.0    0       1   \n",
       "\n",
       "   not at all  sometimes  very often  occasionally  often  very often  \\\n",
       "0           0          1           0             1      0           0   \n",
       "1           0          1           0             0      0           1   \n",
       "2           0          1           0             1      0           0   \n",
       "3           0          1           0             1      0           0   \n",
       "4           0          1           0             1      0           0   \n",
       "\n",
       "   more than half an hr  none  one hr or more  50-59  60 or older  \\\n",
       "0                     0     0               1      1            0   \n",
       "1                     0     0               0      1            0   \n",
       "2                     0     0               1      0            0   \n",
       "3                     0     0               1      1            0   \n",
       "4                     0     0               0      0            0   \n",
       "\n",
       "   less than 40  \n",
       "0             0  \n",
       "1             0  \n",
       "2             0  \n",
       "3             0  \n",
       "4             0  "
      ]
     },
     "execution_count": 31,
     "metadata": {},
     "output_type": "execute_result"
    }
   ],
   "source": [
    "pd.set_option('display.max_columns', None)\n",
    "diabetes.head()\n",
    "#diabetes.describe()"
   ]
  },
  {
   "cell_type": "code",
   "execution_count": 32,
   "id": "8351a98d",
   "metadata": {},
   "outputs": [
    {
     "data": {
      "text/plain": [
       "str"
      ]
     },
     "execution_count": 32,
     "metadata": {},
     "output_type": "execute_result"
    }
   ],
   "source": [
    "diabetes['Pdiabetes'].nunique()\n",
    "diabetes['Pdiabetes'].value_counts()\n",
    "type(diabetes['Pdiabetes'][0])"
   ]
  },
  {
   "cell_type": "code",
   "execution_count": 33,
   "id": "4c33da5d",
   "metadata": {},
   "outputs": [],
   "source": [
    "# looks like pdiabetes column isn't numeric... write a function to clean it\n",
    "def pdiabetes_converter(pdiabetes):\n",
    "    if pdiabetes == 'yes':\n",
    "        return 1\n",
    "    elif pdiabetes == 'no':\n",
    "        return 0\n",
    "    else:\n",
    "        return 0"
   ]
  },
  {
   "cell_type": "code",
   "execution_count": 34,
   "id": "44f4fd71",
   "metadata": {},
   "outputs": [],
   "source": [
    "diabetes['Pdiabetes'] = diabetes['Pdiabetes'].apply(pdiabetes_converter)"
   ]
  },
  {
   "cell_type": "code",
   "execution_count": 35,
   "id": "08fc458c",
   "metadata": {},
   "outputs": [
    {
     "data": {
      "text/html": [
       "<div>\n",
       "<style scoped>\n",
       "    .dataframe tbody tr th:only-of-type {\n",
       "        vertical-align: middle;\n",
       "    }\n",
       "\n",
       "    .dataframe tbody tr th {\n",
       "        vertical-align: top;\n",
       "    }\n",
       "\n",
       "    .dataframe thead th {\n",
       "        text-align: right;\n",
       "    }\n",
       "</style>\n",
       "<table border=\"1\" class=\"dataframe\">\n",
       "  <thead>\n",
       "    <tr style=\"text-align: right;\">\n",
       "      <th></th>\n",
       "      <th>Gender</th>\n",
       "      <th>Family_Diabetes</th>\n",
       "      <th>BMI</th>\n",
       "      <th>Smoking</th>\n",
       "      <th>Alcohol</th>\n",
       "      <th>Sleep</th>\n",
       "      <th>SoundSleep</th>\n",
       "      <th>RegularMedicine</th>\n",
       "      <th>Pregancies</th>\n",
       "      <th>Pdiabetes</th>\n",
       "      <th>UriationFreq</th>\n",
       "      <th>Diabetic</th>\n",
       "      <th>low</th>\n",
       "      <th>normal</th>\n",
       "      <th>not at all</th>\n",
       "      <th>sometimes</th>\n",
       "      <th>very often</th>\n",
       "      <th>occasionally</th>\n",
       "      <th>often</th>\n",
       "      <th>very often</th>\n",
       "      <th>more than half an hr</th>\n",
       "      <th>none</th>\n",
       "      <th>one hr or more</th>\n",
       "      <th>50-59</th>\n",
       "      <th>60 or older</th>\n",
       "      <th>less than 40</th>\n",
       "    </tr>\n",
       "  </thead>\n",
       "  <tbody>\n",
       "    <tr>\n",
       "      <th>0</th>\n",
       "      <td>0</td>\n",
       "      <td>0</td>\n",
       "      <td>39.0</td>\n",
       "      <td>0</td>\n",
       "      <td>0</td>\n",
       "      <td>8</td>\n",
       "      <td>6</td>\n",
       "      <td>0.0</td>\n",
       "      <td>0.0</td>\n",
       "      <td>0</td>\n",
       "      <td>0</td>\n",
       "      <td>0.0</td>\n",
       "      <td>0</td>\n",
       "      <td>0</td>\n",
       "      <td>0</td>\n",
       "      <td>1</td>\n",
       "      <td>0</td>\n",
       "      <td>1</td>\n",
       "      <td>0</td>\n",
       "      <td>0</td>\n",
       "      <td>0</td>\n",
       "      <td>0</td>\n",
       "      <td>1</td>\n",
       "      <td>1</td>\n",
       "      <td>0</td>\n",
       "      <td>0</td>\n",
       "    </tr>\n",
       "    <tr>\n",
       "      <th>1</th>\n",
       "      <td>0</td>\n",
       "      <td>0</td>\n",
       "      <td>28.0</td>\n",
       "      <td>0</td>\n",
       "      <td>0</td>\n",
       "      <td>8</td>\n",
       "      <td>6</td>\n",
       "      <td>1.0</td>\n",
       "      <td>0.0</td>\n",
       "      <td>0</td>\n",
       "      <td>0</td>\n",
       "      <td>0.0</td>\n",
       "      <td>0</td>\n",
       "      <td>1</td>\n",
       "      <td>0</td>\n",
       "      <td>1</td>\n",
       "      <td>0</td>\n",
       "      <td>0</td>\n",
       "      <td>0</td>\n",
       "      <td>1</td>\n",
       "      <td>0</td>\n",
       "      <td>0</td>\n",
       "      <td>0</td>\n",
       "      <td>1</td>\n",
       "      <td>0</td>\n",
       "      <td>0</td>\n",
       "    </tr>\n",
       "    <tr>\n",
       "      <th>2</th>\n",
       "      <td>0</td>\n",
       "      <td>0</td>\n",
       "      <td>24.0</td>\n",
       "      <td>0</td>\n",
       "      <td>0</td>\n",
       "      <td>6</td>\n",
       "      <td>6</td>\n",
       "      <td>0.0</td>\n",
       "      <td>0.0</td>\n",
       "      <td>0</td>\n",
       "      <td>0</td>\n",
       "      <td>0.0</td>\n",
       "      <td>0</td>\n",
       "      <td>1</td>\n",
       "      <td>0</td>\n",
       "      <td>1</td>\n",
       "      <td>0</td>\n",
       "      <td>1</td>\n",
       "      <td>0</td>\n",
       "      <td>0</td>\n",
       "      <td>0</td>\n",
       "      <td>0</td>\n",
       "      <td>1</td>\n",
       "      <td>0</td>\n",
       "      <td>0</td>\n",
       "      <td>0</td>\n",
       "    </tr>\n",
       "    <tr>\n",
       "      <th>3</th>\n",
       "      <td>0</td>\n",
       "      <td>0</td>\n",
       "      <td>23.0</td>\n",
       "      <td>0</td>\n",
       "      <td>0</td>\n",
       "      <td>8</td>\n",
       "      <td>6</td>\n",
       "      <td>0.0</td>\n",
       "      <td>0.0</td>\n",
       "      <td>0</td>\n",
       "      <td>0</td>\n",
       "      <td>0.0</td>\n",
       "      <td>0</td>\n",
       "      <td>1</td>\n",
       "      <td>0</td>\n",
       "      <td>1</td>\n",
       "      <td>0</td>\n",
       "      <td>1</td>\n",
       "      <td>0</td>\n",
       "      <td>0</td>\n",
       "      <td>0</td>\n",
       "      <td>0</td>\n",
       "      <td>1</td>\n",
       "      <td>1</td>\n",
       "      <td>0</td>\n",
       "      <td>0</td>\n",
       "    </tr>\n",
       "    <tr>\n",
       "      <th>4</th>\n",
       "      <td>0</td>\n",
       "      <td>0</td>\n",
       "      <td>27.0</td>\n",
       "      <td>0</td>\n",
       "      <td>0</td>\n",
       "      <td>8</td>\n",
       "      <td>8</td>\n",
       "      <td>0.0</td>\n",
       "      <td>0.0</td>\n",
       "      <td>0</td>\n",
       "      <td>0</td>\n",
       "      <td>0.0</td>\n",
       "      <td>0</td>\n",
       "      <td>1</td>\n",
       "      <td>0</td>\n",
       "      <td>1</td>\n",
       "      <td>0</td>\n",
       "      <td>1</td>\n",
       "      <td>0</td>\n",
       "      <td>0</td>\n",
       "      <td>0</td>\n",
       "      <td>0</td>\n",
       "      <td>0</td>\n",
       "      <td>0</td>\n",
       "      <td>0</td>\n",
       "      <td>0</td>\n",
       "    </tr>\n",
       "  </tbody>\n",
       "</table>\n",
       "</div>"
      ],
      "text/plain": [
       "   Gender  Family_Diabetes   BMI  Smoking  Alcohol  Sleep  SoundSleep  \\\n",
       "0       0                0  39.0        0        0      8           6   \n",
       "1       0                0  28.0        0        0      8           6   \n",
       "2       0                0  24.0        0        0      6           6   \n",
       "3       0                0  23.0        0        0      8           6   \n",
       "4       0                0  27.0        0        0      8           8   \n",
       "\n",
       "   RegularMedicine  Pregancies  Pdiabetes  UriationFreq  Diabetic  low  \\\n",
       "0              0.0         0.0          0             0       0.0    0   \n",
       "1              1.0         0.0          0             0       0.0    0   \n",
       "2              0.0         0.0          0             0       0.0    0   \n",
       "3              0.0         0.0          0             0       0.0    0   \n",
       "4              0.0         0.0          0             0       0.0    0   \n",
       "\n",
       "   normal  not at all  sometimes  very often  occasionally  often  very often  \\\n",
       "0       0           0          1           0             1      0           0   \n",
       "1       1           0          1           0             0      0           1   \n",
       "2       1           0          1           0             1      0           0   \n",
       "3       1           0          1           0             1      0           0   \n",
       "4       1           0          1           0             1      0           0   \n",
       "\n",
       "   more than half an hr  none  one hr or more  50-59  60 or older  \\\n",
       "0                     0     0               1      1            0   \n",
       "1                     0     0               0      1            0   \n",
       "2                     0     0               1      0            0   \n",
       "3                     0     0               1      1            0   \n",
       "4                     0     0               0      0            0   \n",
       "\n",
       "   less than 40  \n",
       "0             0  \n",
       "1             0  \n",
       "2             0  \n",
       "3             0  \n",
       "4             0  "
      ]
     },
     "execution_count": 35,
     "metadata": {},
     "output_type": "execute_result"
    }
   ],
   "source": [
    "diabetes.head()"
   ]
  },
  {
   "cell_type": "code",
   "execution_count": 36,
   "id": "d8d3bacc",
   "metadata": {},
   "outputs": [],
   "source": [
    "# all columns have been successfully converted to numerical form for our ML algorithms!\n",
    "# now let's change the names of our columns to make it clear what they represent\n",
    "\n",
    "diabetes.rename(columns = {'low':'low BP', 'normal':'normal BP',\n",
    "                              'not at all':'no stress', 'sometimes':'occasional stress',\n",
    "                          'very often':'high stress', 'occasionally':'healthy diet', 'often': 'unhealthy diet',\n",
    "                          'very often': 'very unhealthy diet', 'more than half an hr': '0.5+ hr exercise',\n",
    "                          'none': '0 hr exercise', 'one hr or more':'1+ hr exercise','Pregancies':'pregnancies'}, inplace = True)"
   ]
  },
  {
   "cell_type": "code",
   "execution_count": 37,
   "id": "4e2064b7",
   "metadata": {},
   "outputs": [
    {
     "data": {
      "text/html": [
       "<div>\n",
       "<style scoped>\n",
       "    .dataframe tbody tr th:only-of-type {\n",
       "        vertical-align: middle;\n",
       "    }\n",
       "\n",
       "    .dataframe tbody tr th {\n",
       "        vertical-align: top;\n",
       "    }\n",
       "\n",
       "    .dataframe thead th {\n",
       "        text-align: right;\n",
       "    }\n",
       "</style>\n",
       "<table border=\"1\" class=\"dataframe\">\n",
       "  <thead>\n",
       "    <tr style=\"text-align: right;\">\n",
       "      <th></th>\n",
       "      <th>very unhealthy diet</th>\n",
       "      <th>very unhealthy diet</th>\n",
       "    </tr>\n",
       "  </thead>\n",
       "  <tbody>\n",
       "    <tr>\n",
       "      <th>0</th>\n",
       "      <td>0</td>\n",
       "      <td>0</td>\n",
       "    </tr>\n",
       "    <tr>\n",
       "      <th>1</th>\n",
       "      <td>0</td>\n",
       "      <td>1</td>\n",
       "    </tr>\n",
       "    <tr>\n",
       "      <th>2</th>\n",
       "      <td>0</td>\n",
       "      <td>0</td>\n",
       "    </tr>\n",
       "    <tr>\n",
       "      <th>3</th>\n",
       "      <td>0</td>\n",
       "      <td>0</td>\n",
       "    </tr>\n",
       "    <tr>\n",
       "      <th>4</th>\n",
       "      <td>0</td>\n",
       "      <td>0</td>\n",
       "    </tr>\n",
       "  </tbody>\n",
       "</table>\n",
       "</div>"
      ],
      "text/plain": [
       "   very unhealthy diet  very unhealthy diet\n",
       "0                    0                    0\n",
       "1                    0                    1\n",
       "2                    0                    0\n",
       "3                    0                    0\n",
       "4                    0                    0"
      ]
     },
     "execution_count": 37,
     "metadata": {},
     "output_type": "execute_result"
    }
   ],
   "source": [
    "diabetes['very unhealthy diet'].head()"
   ]
  },
  {
   "cell_type": "code",
   "execution_count": 38,
   "id": "1535e734",
   "metadata": {},
   "outputs": [],
   "source": [
    "# as we see here we had 2 columns titled 'very often', but both columns were assigned the same label!\n",
    "diabetes2 = diabetes['very unhealthy diet']\n",
    "diabetes.drop('very unhealthy diet', axis = 1, inplace = True)\n",
    "diabetes2.columns = ['high stress', 'very unhealthy diet']\n",
    "diabetes2\n",
    "diabetes = pd.concat([diabetes, diabetes2], axis = 1)"
   ]
  },
  {
   "cell_type": "code",
   "execution_count": 39,
   "id": "e2bdd0b0",
   "metadata": {},
   "outputs": [
    {
     "data": {
      "text/html": [
       "<div>\n",
       "<style scoped>\n",
       "    .dataframe tbody tr th:only-of-type {\n",
       "        vertical-align: middle;\n",
       "    }\n",
       "\n",
       "    .dataframe tbody tr th {\n",
       "        vertical-align: top;\n",
       "    }\n",
       "\n",
       "    .dataframe thead th {\n",
       "        text-align: right;\n",
       "    }\n",
       "</style>\n",
       "<table border=\"1\" class=\"dataframe\">\n",
       "  <thead>\n",
       "    <tr style=\"text-align: right;\">\n",
       "      <th></th>\n",
       "      <th>Gender</th>\n",
       "      <th>Family_Diabetes</th>\n",
       "      <th>BMI</th>\n",
       "      <th>Smoking</th>\n",
       "      <th>Alcohol</th>\n",
       "      <th>Sleep</th>\n",
       "      <th>SoundSleep</th>\n",
       "      <th>RegularMedicine</th>\n",
       "      <th>pregnancies</th>\n",
       "      <th>Pdiabetes</th>\n",
       "      <th>UriationFreq</th>\n",
       "      <th>Diabetic</th>\n",
       "      <th>low BP</th>\n",
       "      <th>normal BP</th>\n",
       "      <th>no stress</th>\n",
       "      <th>occasional stress</th>\n",
       "      <th>healthy diet</th>\n",
       "      <th>unhealthy diet</th>\n",
       "      <th>0.5+ hr exercise</th>\n",
       "      <th>0 hr exercise</th>\n",
       "      <th>1+ hr exercise</th>\n",
       "      <th>50-59</th>\n",
       "      <th>60 or older</th>\n",
       "      <th>less than 40</th>\n",
       "      <th>high stress</th>\n",
       "      <th>very unhealthy diet</th>\n",
       "    </tr>\n",
       "  </thead>\n",
       "  <tbody>\n",
       "    <tr>\n",
       "      <th>0</th>\n",
       "      <td>0</td>\n",
       "      <td>0</td>\n",
       "      <td>39.0</td>\n",
       "      <td>0</td>\n",
       "      <td>0</td>\n",
       "      <td>8</td>\n",
       "      <td>6</td>\n",
       "      <td>0.0</td>\n",
       "      <td>0.0</td>\n",
       "      <td>0</td>\n",
       "      <td>0</td>\n",
       "      <td>0.0</td>\n",
       "      <td>0</td>\n",
       "      <td>0</td>\n",
       "      <td>0</td>\n",
       "      <td>1</td>\n",
       "      <td>1</td>\n",
       "      <td>0</td>\n",
       "      <td>0</td>\n",
       "      <td>0</td>\n",
       "      <td>1</td>\n",
       "      <td>1</td>\n",
       "      <td>0</td>\n",
       "      <td>0</td>\n",
       "      <td>0</td>\n",
       "      <td>0</td>\n",
       "    </tr>\n",
       "    <tr>\n",
       "      <th>1</th>\n",
       "      <td>0</td>\n",
       "      <td>0</td>\n",
       "      <td>28.0</td>\n",
       "      <td>0</td>\n",
       "      <td>0</td>\n",
       "      <td>8</td>\n",
       "      <td>6</td>\n",
       "      <td>1.0</td>\n",
       "      <td>0.0</td>\n",
       "      <td>0</td>\n",
       "      <td>0</td>\n",
       "      <td>0.0</td>\n",
       "      <td>0</td>\n",
       "      <td>1</td>\n",
       "      <td>0</td>\n",
       "      <td>1</td>\n",
       "      <td>0</td>\n",
       "      <td>0</td>\n",
       "      <td>0</td>\n",
       "      <td>0</td>\n",
       "      <td>0</td>\n",
       "      <td>1</td>\n",
       "      <td>0</td>\n",
       "      <td>0</td>\n",
       "      <td>0</td>\n",
       "      <td>1</td>\n",
       "    </tr>\n",
       "    <tr>\n",
       "      <th>2</th>\n",
       "      <td>0</td>\n",
       "      <td>0</td>\n",
       "      <td>24.0</td>\n",
       "      <td>0</td>\n",
       "      <td>0</td>\n",
       "      <td>6</td>\n",
       "      <td>6</td>\n",
       "      <td>0.0</td>\n",
       "      <td>0.0</td>\n",
       "      <td>0</td>\n",
       "      <td>0</td>\n",
       "      <td>0.0</td>\n",
       "      <td>0</td>\n",
       "      <td>1</td>\n",
       "      <td>0</td>\n",
       "      <td>1</td>\n",
       "      <td>1</td>\n",
       "      <td>0</td>\n",
       "      <td>0</td>\n",
       "      <td>0</td>\n",
       "      <td>1</td>\n",
       "      <td>0</td>\n",
       "      <td>0</td>\n",
       "      <td>0</td>\n",
       "      <td>0</td>\n",
       "      <td>0</td>\n",
       "    </tr>\n",
       "    <tr>\n",
       "      <th>3</th>\n",
       "      <td>0</td>\n",
       "      <td>0</td>\n",
       "      <td>23.0</td>\n",
       "      <td>0</td>\n",
       "      <td>0</td>\n",
       "      <td>8</td>\n",
       "      <td>6</td>\n",
       "      <td>0.0</td>\n",
       "      <td>0.0</td>\n",
       "      <td>0</td>\n",
       "      <td>0</td>\n",
       "      <td>0.0</td>\n",
       "      <td>0</td>\n",
       "      <td>1</td>\n",
       "      <td>0</td>\n",
       "      <td>1</td>\n",
       "      <td>1</td>\n",
       "      <td>0</td>\n",
       "      <td>0</td>\n",
       "      <td>0</td>\n",
       "      <td>1</td>\n",
       "      <td>1</td>\n",
       "      <td>0</td>\n",
       "      <td>0</td>\n",
       "      <td>0</td>\n",
       "      <td>0</td>\n",
       "    </tr>\n",
       "    <tr>\n",
       "      <th>4</th>\n",
       "      <td>0</td>\n",
       "      <td>0</td>\n",
       "      <td>27.0</td>\n",
       "      <td>0</td>\n",
       "      <td>0</td>\n",
       "      <td>8</td>\n",
       "      <td>8</td>\n",
       "      <td>0.0</td>\n",
       "      <td>0.0</td>\n",
       "      <td>0</td>\n",
       "      <td>0</td>\n",
       "      <td>0.0</td>\n",
       "      <td>0</td>\n",
       "      <td>1</td>\n",
       "      <td>0</td>\n",
       "      <td>1</td>\n",
       "      <td>1</td>\n",
       "      <td>0</td>\n",
       "      <td>0</td>\n",
       "      <td>0</td>\n",
       "      <td>0</td>\n",
       "      <td>0</td>\n",
       "      <td>0</td>\n",
       "      <td>0</td>\n",
       "      <td>0</td>\n",
       "      <td>0</td>\n",
       "    </tr>\n",
       "  </tbody>\n",
       "</table>\n",
       "</div>"
      ],
      "text/plain": [
       "   Gender  Family_Diabetes   BMI  Smoking  Alcohol  Sleep  SoundSleep  \\\n",
       "0       0                0  39.0        0        0      8           6   \n",
       "1       0                0  28.0        0        0      8           6   \n",
       "2       0                0  24.0        0        0      6           6   \n",
       "3       0                0  23.0        0        0      8           6   \n",
       "4       0                0  27.0        0        0      8           8   \n",
       "\n",
       "   RegularMedicine  pregnancies  Pdiabetes  UriationFreq  Diabetic  low BP  \\\n",
       "0              0.0          0.0          0             0       0.0       0   \n",
       "1              1.0          0.0          0             0       0.0       0   \n",
       "2              0.0          0.0          0             0       0.0       0   \n",
       "3              0.0          0.0          0             0       0.0       0   \n",
       "4              0.0          0.0          0             0       0.0       0   \n",
       "\n",
       "   normal BP  no stress  occasional stress  healthy diet  unhealthy diet  \\\n",
       "0          0          0                  1             1               0   \n",
       "1          1          0                  1             0               0   \n",
       "2          1          0                  1             1               0   \n",
       "3          1          0                  1             1               0   \n",
       "4          1          0                  1             1               0   \n",
       "\n",
       "   0.5+ hr exercise  0 hr exercise  1+ hr exercise  50-59  60 or older  \\\n",
       "0                 0              0               1      1            0   \n",
       "1                 0              0               0      1            0   \n",
       "2                 0              0               1      0            0   \n",
       "3                 0              0               1      1            0   \n",
       "4                 0              0               0      0            0   \n",
       "\n",
       "   less than 40  high stress  very unhealthy diet  \n",
       "0             0            0                    0  \n",
       "1             0            0                    1  \n",
       "2             0            0                    0  \n",
       "3             0            0                    0  \n",
       "4             0            0                    0  "
      ]
     },
     "execution_count": 39,
     "metadata": {},
     "output_type": "execute_result"
    }
   ],
   "source": [
    "# remove all \"one-off\" null entries\n",
    "diabetes.dropna(inplace = True)\n",
    "diabetes.describe()\n",
    "diabetes.head()\n",
    "# successfully removed 6 rows with missing info"
   ]
  },
  {
   "cell_type": "code",
   "execution_count": 40,
   "id": "1625018a",
   "metadata": {},
   "outputs": [
    {
     "data": {
      "text/plain": [
       "(946, 26)"
      ]
     },
     "execution_count": 40,
     "metadata": {},
     "output_type": "execute_result"
    }
   ],
   "source": [
    "diabetes.shape"
   ]
  },
  {
   "cell_type": "code",
   "execution_count": 41,
   "id": "0aee0c4e",
   "metadata": {},
   "outputs": [],
   "source": [
    "# EDA"
   ]
  },
  {
   "cell_type": "code",
   "execution_count": 42,
   "id": "5f4e10c5",
   "metadata": {},
   "outputs": [],
   "source": [
    "# let's explore the relationship between different variables in our datset"
   ]
  },
  {
   "cell_type": "code",
   "execution_count": 43,
   "id": "3c4a8d67",
   "metadata": {},
   "outputs": [],
   "source": [
    "# unfortunately our dataset is mostly comprised of categorical data, making EDA challenging\n",
    "# to solve this we will assign all our categorical data a randomly-generated number based on\n",
    "# the diff column names and plot this data to ascertain a rough relationship between diff variables"
   ]
  },
  {
   "cell_type": "code",
   "execution_count": 44,
   "id": "a4500de0",
   "metadata": {},
   "outputs": [
    {
     "data": {
      "text/html": [
       "<div>\n",
       "<style scoped>\n",
       "    .dataframe tbody tr th:only-of-type {\n",
       "        vertical-align: middle;\n",
       "    }\n",
       "\n",
       "    .dataframe tbody tr th {\n",
       "        vertical-align: top;\n",
       "    }\n",
       "\n",
       "    .dataframe thead th {\n",
       "        text-align: right;\n",
       "    }\n",
       "</style>\n",
       "<table border=\"1\" class=\"dataframe\">\n",
       "  <thead>\n",
       "    <tr style=\"text-align: right;\">\n",
       "      <th></th>\n",
       "      <th>Age</th>\n",
       "      <th>Gender</th>\n",
       "      <th>Family_Diabetes</th>\n",
       "      <th>highBP</th>\n",
       "      <th>PhysicallyActive</th>\n",
       "      <th>BMI</th>\n",
       "      <th>Smoking</th>\n",
       "      <th>Alcohol</th>\n",
       "      <th>Sleep</th>\n",
       "      <th>SoundSleep</th>\n",
       "      <th>RegularMedicine</th>\n",
       "      <th>JunkFood</th>\n",
       "      <th>Stress</th>\n",
       "      <th>BPLevel</th>\n",
       "      <th>Pregancies</th>\n",
       "      <th>Pdiabetes</th>\n",
       "      <th>UriationFreq</th>\n",
       "      <th>Diabetic</th>\n",
       "    </tr>\n",
       "  </thead>\n",
       "  <tbody>\n",
       "    <tr>\n",
       "      <th>0</th>\n",
       "      <td>50-59</td>\n",
       "      <td>Male</td>\n",
       "      <td>no</td>\n",
       "      <td>yes</td>\n",
       "      <td>one hr or more</td>\n",
       "      <td>39.0</td>\n",
       "      <td>no</td>\n",
       "      <td>no</td>\n",
       "      <td>8</td>\n",
       "      <td>6</td>\n",
       "      <td>no</td>\n",
       "      <td>occasionally</td>\n",
       "      <td>sometimes</td>\n",
       "      <td>high</td>\n",
       "      <td>0.0</td>\n",
       "      <td>0</td>\n",
       "      <td>not much</td>\n",
       "      <td>no</td>\n",
       "    </tr>\n",
       "    <tr>\n",
       "      <th>1</th>\n",
       "      <td>50-59</td>\n",
       "      <td>Male</td>\n",
       "      <td>no</td>\n",
       "      <td>yes</td>\n",
       "      <td>less than half an hr</td>\n",
       "      <td>28.0</td>\n",
       "      <td>no</td>\n",
       "      <td>no</td>\n",
       "      <td>8</td>\n",
       "      <td>6</td>\n",
       "      <td>yes</td>\n",
       "      <td>very often</td>\n",
       "      <td>sometimes</td>\n",
       "      <td>normal</td>\n",
       "      <td>0.0</td>\n",
       "      <td>0</td>\n",
       "      <td>not much</td>\n",
       "      <td>no</td>\n",
       "    </tr>\n",
       "    <tr>\n",
       "      <th>2</th>\n",
       "      <td>40-49</td>\n",
       "      <td>Male</td>\n",
       "      <td>no</td>\n",
       "      <td>no</td>\n",
       "      <td>one hr or more</td>\n",
       "      <td>24.0</td>\n",
       "      <td>no</td>\n",
       "      <td>no</td>\n",
       "      <td>6</td>\n",
       "      <td>6</td>\n",
       "      <td>no</td>\n",
       "      <td>occasionally</td>\n",
       "      <td>sometimes</td>\n",
       "      <td>normal</td>\n",
       "      <td>0.0</td>\n",
       "      <td>0</td>\n",
       "      <td>not much</td>\n",
       "      <td>no</td>\n",
       "    </tr>\n",
       "    <tr>\n",
       "      <th>3</th>\n",
       "      <td>50-59</td>\n",
       "      <td>Male</td>\n",
       "      <td>no</td>\n",
       "      <td>no</td>\n",
       "      <td>one hr or more</td>\n",
       "      <td>23.0</td>\n",
       "      <td>no</td>\n",
       "      <td>no</td>\n",
       "      <td>8</td>\n",
       "      <td>6</td>\n",
       "      <td>no</td>\n",
       "      <td>occasionally</td>\n",
       "      <td>sometimes</td>\n",
       "      <td>normal</td>\n",
       "      <td>0.0</td>\n",
       "      <td>0</td>\n",
       "      <td>not much</td>\n",
       "      <td>no</td>\n",
       "    </tr>\n",
       "    <tr>\n",
       "      <th>4</th>\n",
       "      <td>40-49</td>\n",
       "      <td>Male</td>\n",
       "      <td>no</td>\n",
       "      <td>no</td>\n",
       "      <td>less than half an hr</td>\n",
       "      <td>27.0</td>\n",
       "      <td>no</td>\n",
       "      <td>no</td>\n",
       "      <td>8</td>\n",
       "      <td>8</td>\n",
       "      <td>no</td>\n",
       "      <td>occasionally</td>\n",
       "      <td>sometimes</td>\n",
       "      <td>normal</td>\n",
       "      <td>0.0</td>\n",
       "      <td>0</td>\n",
       "      <td>not much</td>\n",
       "      <td>no</td>\n",
       "    </tr>\n",
       "  </tbody>\n",
       "</table>\n",
       "</div>"
      ],
      "text/plain": [
       "     Age Gender Family_Diabetes highBP      PhysicallyActive   BMI Smoking  \\\n",
       "0  50-59   Male              no    yes        one hr or more  39.0      no   \n",
       "1  50-59   Male              no    yes  less than half an hr  28.0      no   \n",
       "2  40-49   Male              no     no        one hr or more  24.0      no   \n",
       "3  50-59   Male              no     no        one hr or more  23.0      no   \n",
       "4  40-49   Male              no     no  less than half an hr  27.0      no   \n",
       "\n",
       "  Alcohol  Sleep  SoundSleep RegularMedicine      JunkFood     Stress BPLevel  \\\n",
       "0      no      8           6              no  occasionally  sometimes    high   \n",
       "1      no      8           6             yes    very often  sometimes  normal   \n",
       "2      no      6           6              no  occasionally  sometimes  normal   \n",
       "3      no      8           6              no  occasionally  sometimes  normal   \n",
       "4      no      8           8              no  occasionally  sometimes  normal   \n",
       "\n",
       "   Pregancies Pdiabetes UriationFreq Diabetic  \n",
       "0         0.0         0     not much       no  \n",
       "1         0.0         0     not much       no  \n",
       "2         0.0         0     not much       no  \n",
       "3         0.0         0     not much       no  \n",
       "4         0.0         0     not much       no  "
      ]
     },
     "execution_count": 44,
     "metadata": {},
     "output_type": "execute_result"
    }
   ],
   "source": [
    "eda_dataset = pd.read_csv('diabetes_dataset__2019.csv')\n",
    "eda_dataset.head()"
   ]
  },
  {
   "cell_type": "code",
   "execution_count": 45,
   "id": "12f3c0df",
   "metadata": {},
   "outputs": [
    {
     "data": {
      "text/plain": [
       "sometimes     564\n",
       "very often    164\n",
       "not at all    136\n",
       "always         88\n",
       "Name: Stress, dtype: int64"
      ]
     },
     "execution_count": 45,
     "metadata": {},
     "output_type": "execute_result"
    }
   ],
   "source": [
    "# Now we see how many different values do each catagorical column has \n",
    "eda_dataset['Stress'].value_counts()"
   ]
  },
  {
   "cell_type": "code",
   "execution_count": 46,
   "id": "2f5867c6",
   "metadata": {},
   "outputs": [
    {
     "data": {
      "text/plain": [
       "occasionally    672\n",
       "often           184\n",
       "very often       52\n",
       "always           44\n",
       "Name: JunkFood, dtype: int64"
      ]
     },
     "execution_count": 46,
     "metadata": {},
     "output_type": "execute_result"
    }
   ],
   "source": [
    "eda_dataset['JunkFood'].value_counts()"
   ]
  },
  {
   "cell_type": "code",
   "execution_count": 47,
   "id": "52fef950",
   "metadata": {
    "scrolled": true
   },
   "outputs": [
    {
     "data": {
      "text/plain": [
       "less than half an hr    336\n",
       "more than half an hr    272\n",
       "one hr or more          212\n",
       "none                    132\n",
       "Name: PhysicallyActive, dtype: int64"
      ]
     },
     "execution_count": 47,
     "metadata": {},
     "output_type": "execute_result"
    }
   ],
   "source": [
    "eda_dataset['PhysicallyActive'].value_counts()"
   ]
  },
  {
   "cell_type": "code",
   "execution_count": 48,
   "id": "f0aa513e",
   "metadata": {},
   "outputs": [],
   "source": [
    "#Recall that the 'BPLevel' column has some entries followed by a space behind them\n",
    "#Use the cleaning function before\n",
    "eda_dataset['BPLevel'] = eda_dataset['BPLevel'].apply(lowerupper)"
   ]
  },
  {
   "cell_type": "code",
   "execution_count": 49,
   "id": "c355a42c",
   "metadata": {
    "scrolled": true
   },
   "outputs": [
    {
     "data": {
      "text/plain": [
       "normal    708\n",
       "high      216\n",
       "low        28\n",
       "Name: BPLevel, dtype: int64"
      ]
     },
     "execution_count": 49,
     "metadata": {},
     "output_type": "execute_result"
    }
   ],
   "source": [
    "eda_dataset['BPLevel'].value_counts()"
   ]
  },
  {
   "cell_type": "code",
   "execution_count": 50,
   "id": "d4e8590f",
   "metadata": {},
   "outputs": [],
   "source": [
    "import random\n",
    "def stress_converter(column):\n",
    "    if column == 'not at all':\n",
    "        return random.uniform(0, 0.25)\n",
    "    elif column == 'sometimes':\n",
    "        return random.uniform(0.25, 0.5)\n",
    "    elif column == 'very often':\n",
    "        return random.uniform(0.5, 0.75)\n",
    "    else:\n",
    "        return random.uniform(0.75, 1)\n",
    "    \n",
    "def junkfood_converter(column):\n",
    "    if column == 'occasionally':\n",
    "        return random.uniform(0, 0.25)\n",
    "    elif column == 'often':\n",
    "        return random.uniform(0.25, 0.5)\n",
    "    elif column == 'very often':\n",
    "        return random.uniform(0.5, 0.75)\n",
    "    else:\n",
    "        return random.uniform(0.75, 1)\n",
    "    \n",
    "def BPLevel_converter(columns):\n",
    "    if columns[0] == 'low':\n",
    "        columns[0] = random.uniform(0, 0.333)\n",
    "        return columns\n",
    "    elif columns[0] == 'normal':\n",
    "        columns[0] = random.uniform(0.333, 0.667)\n",
    "        return columns\n",
    "        '''if columns[1] == 'no':\n",
    "            columns[0] = random.uniform(0.333, 0.5)\n",
    "            return columns\n",
    "        elif columns[0] == 'yes':\n",
    "            columns[0] = random.uniform(0.5, \n",
    "                                        0.667)\n",
    "            return columns'''\n",
    "    elif columns[0] == 'high':\n",
    "        columns[0] = random.uniform(0.667, 0.999)\n",
    "        return columns\n",
    "    \n",
    "def phys_active_converter(column):\n",
    "    if column == 'none':\n",
    "        return random.uniform(0, 0.25)\n",
    "    elif column == 'less than half an hr':\n",
    "        return random.uniform(0.25, 0.5)\n",
    "    elif column == 'more than half an hr':\n",
    "        return random.uniform(0.5, 0.75)\n",
    "    else:\n",
    "        return random.uniform(0.75, 1)\n",
    "\n",
    "eda_dataset['Stress'] = eda_dataset['Stress'].apply(stress_converter)\n",
    "eda_dataset['JunkFood'] = eda_dataset['JunkFood'].apply(junkfood_converter)\n",
    "eda_dataset['PhysicallyActive'] = eda_dataset['PhysicallyActive'].apply(phys_active_converter)\n",
    "eda_dataset[['BPLevel', 'highBP']] = eda_dataset[['BPLevel', 'highBP']].apply(BPLevel_converter, axis = 1)\n",
    "eda_dataset['Diabetic'] = eda_dataset['Diabetic'].apply(binary_converter)\n",
    "eda_dataset['RegularMedicine'] = eda_dataset['RegularMedicine'].apply(binary_converter)"
   ]
  },
  {
   "cell_type": "code",
   "execution_count": 51,
   "id": "fe6d20e3",
   "metadata": {},
   "outputs": [
    {
     "data": {
      "text/html": [
       "<div>\n",
       "<style scoped>\n",
       "    .dataframe tbody tr th:only-of-type {\n",
       "        vertical-align: middle;\n",
       "    }\n",
       "\n",
       "    .dataframe tbody tr th {\n",
       "        vertical-align: top;\n",
       "    }\n",
       "\n",
       "    .dataframe thead th {\n",
       "        text-align: right;\n",
       "    }\n",
       "</style>\n",
       "<table border=\"1\" class=\"dataframe\">\n",
       "  <thead>\n",
       "    <tr style=\"text-align: right;\">\n",
       "      <th></th>\n",
       "      <th>Age</th>\n",
       "      <th>Gender</th>\n",
       "      <th>Family_Diabetes</th>\n",
       "      <th>highBP</th>\n",
       "      <th>PhysicallyActive</th>\n",
       "      <th>BMI</th>\n",
       "      <th>Smoking</th>\n",
       "      <th>Alcohol</th>\n",
       "      <th>Sleep</th>\n",
       "      <th>SoundSleep</th>\n",
       "      <th>RegularMedicine</th>\n",
       "      <th>JunkFood</th>\n",
       "      <th>Stress</th>\n",
       "      <th>BPLevel</th>\n",
       "      <th>Pregancies</th>\n",
       "      <th>Pdiabetes</th>\n",
       "      <th>UriationFreq</th>\n",
       "      <th>Diabetic</th>\n",
       "    </tr>\n",
       "  </thead>\n",
       "  <tbody>\n",
       "    <tr>\n",
       "      <th>0</th>\n",
       "      <td>50-59</td>\n",
       "      <td>Male</td>\n",
       "      <td>no</td>\n",
       "      <td>yes</td>\n",
       "      <td>0.920781</td>\n",
       "      <td>39.0</td>\n",
       "      <td>no</td>\n",
       "      <td>no</td>\n",
       "      <td>8</td>\n",
       "      <td>6</td>\n",
       "      <td>0.0</td>\n",
       "      <td>0.094653</td>\n",
       "      <td>0.272044</td>\n",
       "      <td>0.860420</td>\n",
       "      <td>0.0</td>\n",
       "      <td>0</td>\n",
       "      <td>not much</td>\n",
       "      <td>0.0</td>\n",
       "    </tr>\n",
       "    <tr>\n",
       "      <th>1</th>\n",
       "      <td>50-59</td>\n",
       "      <td>Male</td>\n",
       "      <td>no</td>\n",
       "      <td>yes</td>\n",
       "      <td>0.351662</td>\n",
       "      <td>28.0</td>\n",
       "      <td>no</td>\n",
       "      <td>no</td>\n",
       "      <td>8</td>\n",
       "      <td>6</td>\n",
       "      <td>1.0</td>\n",
       "      <td>0.643114</td>\n",
       "      <td>0.309065</td>\n",
       "      <td>0.490043</td>\n",
       "      <td>0.0</td>\n",
       "      <td>0</td>\n",
       "      <td>not much</td>\n",
       "      <td>0.0</td>\n",
       "    </tr>\n",
       "    <tr>\n",
       "      <th>2</th>\n",
       "      <td>40-49</td>\n",
       "      <td>Male</td>\n",
       "      <td>no</td>\n",
       "      <td>no</td>\n",
       "      <td>0.907847</td>\n",
       "      <td>24.0</td>\n",
       "      <td>no</td>\n",
       "      <td>no</td>\n",
       "      <td>6</td>\n",
       "      <td>6</td>\n",
       "      <td>0.0</td>\n",
       "      <td>0.075071</td>\n",
       "      <td>0.428139</td>\n",
       "      <td>0.350597</td>\n",
       "      <td>0.0</td>\n",
       "      <td>0</td>\n",
       "      <td>not much</td>\n",
       "      <td>0.0</td>\n",
       "    </tr>\n",
       "    <tr>\n",
       "      <th>3</th>\n",
       "      <td>50-59</td>\n",
       "      <td>Male</td>\n",
       "      <td>no</td>\n",
       "      <td>no</td>\n",
       "      <td>0.854166</td>\n",
       "      <td>23.0</td>\n",
       "      <td>no</td>\n",
       "      <td>no</td>\n",
       "      <td>8</td>\n",
       "      <td>6</td>\n",
       "      <td>0.0</td>\n",
       "      <td>0.135513</td>\n",
       "      <td>0.356309</td>\n",
       "      <td>0.414383</td>\n",
       "      <td>0.0</td>\n",
       "      <td>0</td>\n",
       "      <td>not much</td>\n",
       "      <td>0.0</td>\n",
       "    </tr>\n",
       "    <tr>\n",
       "      <th>4</th>\n",
       "      <td>40-49</td>\n",
       "      <td>Male</td>\n",
       "      <td>no</td>\n",
       "      <td>no</td>\n",
       "      <td>0.334366</td>\n",
       "      <td>27.0</td>\n",
       "      <td>no</td>\n",
       "      <td>no</td>\n",
       "      <td>8</td>\n",
       "      <td>8</td>\n",
       "      <td>0.0</td>\n",
       "      <td>0.205495</td>\n",
       "      <td>0.469238</td>\n",
       "      <td>0.630053</td>\n",
       "      <td>0.0</td>\n",
       "      <td>0</td>\n",
       "      <td>not much</td>\n",
       "      <td>0.0</td>\n",
       "    </tr>\n",
       "  </tbody>\n",
       "</table>\n",
       "</div>"
      ],
      "text/plain": [
       "     Age Gender Family_Diabetes highBP  PhysicallyActive   BMI Smoking  \\\n",
       "0  50-59   Male              no    yes          0.920781  39.0      no   \n",
       "1  50-59   Male              no    yes          0.351662  28.0      no   \n",
       "2  40-49   Male              no     no          0.907847  24.0      no   \n",
       "3  50-59   Male              no     no          0.854166  23.0      no   \n",
       "4  40-49   Male              no     no          0.334366  27.0      no   \n",
       "\n",
       "  Alcohol  Sleep  SoundSleep  RegularMedicine  JunkFood    Stress   BPLevel  \\\n",
       "0      no      8           6              0.0  0.094653  0.272044  0.860420   \n",
       "1      no      8           6              1.0  0.643114  0.309065  0.490043   \n",
       "2      no      6           6              0.0  0.075071  0.428139  0.350597   \n",
       "3      no      8           6              0.0  0.135513  0.356309  0.414383   \n",
       "4      no      8           8              0.0  0.205495  0.469238  0.630053   \n",
       "\n",
       "   Pregancies Pdiabetes UriationFreq  Diabetic  \n",
       "0         0.0         0     not much       0.0  \n",
       "1         0.0         0     not much       0.0  \n",
       "2         0.0         0     not much       0.0  \n",
       "3         0.0         0     not much       0.0  \n",
       "4         0.0         0     not much       0.0  "
      ]
     },
     "execution_count": 51,
     "metadata": {},
     "output_type": "execute_result"
    }
   ],
   "source": [
    "eda_dataset.head()\n",
    "#Now we converted 4 catagorical columns into numerical by assigning labels of each column with numbers generated within\n",
    "#a specific interval"
   ]
  },
  {
   "cell_type": "code",
   "execution_count": 52,
   "id": "f5a90f9c",
   "metadata": {},
   "outputs": [
    {
     "data": {
      "image/png": "[encoded data removed]",
      "text/plain": [
       "<Figure size 1080x576 with 1 Axes>"
      ]
     },
     "metadata": {
      "needs_background": "light"
     },
     "output_type": "display_data"
    }
   ],
   "source": [
    "plt.figure(figsize=(15,8))\n",
    "x = eda_dataset[eda_dataset['Gender']=='Male']['BMI']\n",
    "y = eda_dataset[eda_dataset['Gender']=='Female']['BMI']\n",
    "plt.hist([x, y],label=['Male','Female'])\n",
    "plt.legend(fontsize=13)\n",
    "plt.show()\n",
    "#From this graph, female patients tend to have higher BMI than male patients"
   ]
  },
  {
   "cell_type": "code",
   "execution_count": 53,
   "id": "c3d73ab7",
   "metadata": {},
   "outputs": [
    {
     "data": {
      "image/png": "[encoded data removed]",
      "text/plain": [
       "<Figure size 1080x576 with 1 Axes>"
      ]
     },
     "metadata": {
      "needs_background": "light"
     },
     "output_type": "display_data"
    }
   ],
   "source": [
    "plt.figure(figsize=(15,8))\n",
    "x = eda_dataset[eda_dataset['Diabetic']==0.0]['Sleep']\n",
    "y = eda_dataset[eda_dataset['Diabetic']==1.0]['Sleep']\n",
    "plt.hist([x, y],label=['not diabetic','diabetic'])\n",
    "plt.legend(fontsize=13)\n",
    "plt.show()\n",
    "#No evident trend between time of sleep and contracting diabetes, amount of sleep follows a Gaussian distribution"
   ]
  },
  {
   "cell_type": "code",
   "execution_count": 54,
   "id": "a87693f6",
   "metadata": {},
   "outputs": [
    {
     "data": {
      "text/plain": [
       "<seaborn.axisgrid.JointGrid at 0x181683fdd30>"
      ]
     },
     "execution_count": 54,
     "metadata": {},
     "output_type": "execute_result"
    },
    {
     "data": {
      "text/plain": [
       "<Figure size 1080x576 with 0 Axes>"
      ]
     },
     "metadata": {},
     "output_type": "display_data"
    },
    {
     "data": {
      "image/png": "[encoded data removed]",
      "text/plain": [
       "<Figure size 432x432 with 3 Axes>"
      ]
     },
     "metadata": {
      "needs_background": "light"
     },
     "output_type": "display_data"
    }
   ],
   "source": [
    "plt.figure(figsize=(15,8))\n",
    "sns.jointplot(x='Stress', y='JunkFood', data = eda_dataset)\n",
    "#Looks like there is no correlation "
   ]
  },
  {
   "cell_type": "code",
   "execution_count": 55,
   "id": "d6feae7f",
   "metadata": {},
   "outputs": [
    {
     "data": {
      "text/plain": [
       "<seaborn.axisgrid.JointGrid at 0x18168623820>"
      ]
     },
     "execution_count": 55,
     "metadata": {},
     "output_type": "execute_result"
    },
    {
     "data": {
      "text/plain": [
       "<Figure size 1080x576 with 0 Axes>"
      ]
     },
     "metadata": {},
     "output_type": "display_data"
    },
    {
     "data": {
      "image/png": "[encoded data removed]",
      "text/plain": [
       "<Figure size 432x432 with 3 Axes>"
      ]
     },
     "metadata": {
      "needs_background": "light"
     },
     "output_type": "display_data"
    }
   ],
   "source": [
    "plt.figure(figsize=(15,8))\n",
    "sns.jointplot(x='Stress', y='BPLevel', data = eda_dataset)\n",
    "#Looks like there is no correlation "
   ]
  },
  {
   "cell_type": "code",
   "execution_count": 56,
   "id": "fa6afa06",
   "metadata": {},
   "outputs": [
    {
     "data": {
      "text/plain": [
       "<AxesSubplot:xlabel='RegularMedicine', ylabel='PhysicallyActive'>"
      ]
     },
     "execution_count": 56,
     "metadata": {},
     "output_type": "execute_result"
    },
    {
     "data": {
      "image/png": "[encoded data removed]",
      "text/plain": [
       "<Figure size 792x432 with 1 Axes>"
      ]
     },
     "metadata": {
      "needs_background": "light"
     },
     "output_type": "display_data"
    }
   ],
   "source": [
    "plt.figure(figsize=(11,6))\n",
    "sns.boxplot(x = 'RegularMedicine', y= 'PhysicallyActive', hue = 'Diabetic', data=eda_dataset)\n",
    "# it appears that lower levels of physical activity is correlated to higher risk of diabetes"
   ]
  },
  {
   "cell_type": "code",
   "execution_count": 57,
   "id": "479eeb0f",
   "metadata": {},
   "outputs": [],
   "source": [
    "def diabetic_converter(pdiabetes):\n",
    "    if pdiabetes == 'yes':\n",
    "        return 1\n",
    "    elif pdiabetes == 'no':\n",
    "        return 0\n",
    "    else:\n",
    "        return 0\n",
    "\n",
    "eda_dataset['Diabetic'] = eda_dataset['Diabetic'].apply(diabetic_converter)"
   ]
  },
  {
   "cell_type": "code",
   "execution_count": 58,
   "id": "99ecf626",
   "metadata": {},
   "outputs": [
    {
     "data": {
      "text/plain": [
       "<AxesSubplot:xlabel='BPLevel', ylabel='count'>"
      ]
     },
     "execution_count": 58,
     "metadata": {},
     "output_type": "execute_result"
    },
    {
     "data": {
      "image/png": "[encoded data removed]",
      "text/plain": [
       "<Figure size 1080x576 with 1 Axes>"
      ]
     },
     "metadata": {
      "needs_background": "light"
     },
     "output_type": "display_data"
    }
   ],
   "source": [
    "diabetes2 = pd.read_csv('diabetes_dataset__2019.csv')\n",
    "diabetes2['BPLevel'] = diabetes2['BPLevel'].apply(lowerupper)\n",
    "diabetes2['Diabetic'] = diabetes2['Diabetic'].apply(lowerupper2)\n",
    "plt.figure(figsize=(15,8))\n",
    "sns.countplot(x='BPLevel', data=diabetes2, hue='Diabetic',order=['low','normal','high'])\n",
    "# People with higher bloodpressure tend to be more prone in contracting diabetes"
   ]
  },
  {
   "cell_type": "code",
   "execution_count": 59,
   "id": "579b51f9",
   "metadata": {},
   "outputs": [],
   "source": [
    "# MACHINE LEARNING"
   ]
  },
  {
   "cell_type": "code",
   "execution_count": 60,
   "id": "f1346e57",
   "metadata": {},
   "outputs": [],
   "source": [
    "# First, let's split our data into training and testing sets"
   ]
  },
  {
   "cell_type": "code",
   "execution_count": 61,
   "id": "e7c95840",
   "metadata": {},
   "outputs": [],
   "source": [
    "from sklearn.model_selection import train_test_split\n",
    "from sklearn.linear_model import LogisticRegression\n",
    "from sklearn.neighbors import KNeighborsClassifier\n",
    "from sklearn.svm import SVC\n",
    "from sklearn.tree import DecisionTreeClassifier\n",
    "from sklearn.ensemble import RandomForestClassifier\n",
    "from sklearn.metrics import classification_report\n",
    "from sklearn.metrics import confusion_matrix\n",
    "from sklearn.model_selection import GridSearchCV\n",
    "from imblearn.over_sampling import SMOTENC\n",
    "from sklearn.decomposition import PCA"
   ]
  },
  {
   "cell_type": "code",
   "execution_count": 62,
   "id": "97cb50a5",
   "metadata": {},
   "outputs": [],
   "source": [
    "# we rearrage our dataset to cluster catagorical data together and numerical data together\n",
    "diabetes3 = diabetes[['BMI','Sleep','SoundSleep','pregnancies']]\n",
    "diabetes.drop(['BMI','Sleep','SoundSleep','pregnancies'], axis=1, inplace=True)"
   ]
  },
  {
   "cell_type": "code",
   "execution_count": 63,
   "id": "967ef063",
   "metadata": {},
   "outputs": [
    {
     "data": {
      "text/html": [
       "<div>\n",
       "<style scoped>\n",
       "    .dataframe tbody tr th:only-of-type {\n",
       "        vertical-align: middle;\n",
       "    }\n",
       "\n",
       "    .dataframe tbody tr th {\n",
       "        vertical-align: top;\n",
       "    }\n",
       "\n",
       "    .dataframe thead th {\n",
       "        text-align: right;\n",
       "    }\n",
       "</style>\n",
       "<table border=\"1\" class=\"dataframe\">\n",
       "  <thead>\n",
       "    <tr style=\"text-align: right;\">\n",
       "      <th></th>\n",
       "      <th>Gender</th>\n",
       "      <th>Family_Diabetes</th>\n",
       "      <th>Smoking</th>\n",
       "      <th>Alcohol</th>\n",
       "      <th>RegularMedicine</th>\n",
       "      <th>Pdiabetes</th>\n",
       "      <th>UriationFreq</th>\n",
       "      <th>Diabetic</th>\n",
       "      <th>low BP</th>\n",
       "      <th>normal BP</th>\n",
       "      <th>no stress</th>\n",
       "      <th>occasional stress</th>\n",
       "      <th>healthy diet</th>\n",
       "      <th>unhealthy diet</th>\n",
       "      <th>0.5+ hr exercise</th>\n",
       "      <th>0 hr exercise</th>\n",
       "      <th>1+ hr exercise</th>\n",
       "      <th>50-59</th>\n",
       "      <th>60 or older</th>\n",
       "      <th>less than 40</th>\n",
       "      <th>high stress</th>\n",
       "      <th>very unhealthy diet</th>\n",
       "      <th>BMI</th>\n",
       "      <th>Sleep</th>\n",
       "      <th>SoundSleep</th>\n",
       "      <th>pregnancies</th>\n",
       "    </tr>\n",
       "  </thead>\n",
       "  <tbody>\n",
       "    <tr>\n",
       "      <th>0</th>\n",
       "      <td>0</td>\n",
       "      <td>0</td>\n",
       "      <td>0</td>\n",
       "      <td>0</td>\n",
       "      <td>0.0</td>\n",
       "      <td>0</td>\n",
       "      <td>0</td>\n",
       "      <td>0.0</td>\n",
       "      <td>0</td>\n",
       "      <td>0</td>\n",
       "      <td>0</td>\n",
       "      <td>1</td>\n",
       "      <td>1</td>\n",
       "      <td>0</td>\n",
       "      <td>0</td>\n",
       "      <td>0</td>\n",
       "      <td>1</td>\n",
       "      <td>1</td>\n",
       "      <td>0</td>\n",
       "      <td>0</td>\n",
       "      <td>0</td>\n",
       "      <td>0</td>\n",
       "      <td>39.0</td>\n",
       "      <td>8</td>\n",
       "      <td>6</td>\n",
       "      <td>0.0</td>\n",
       "    </tr>\n",
       "    <tr>\n",
       "      <th>1</th>\n",
       "      <td>0</td>\n",
       "      <td>0</td>\n",
       "      <td>0</td>\n",
       "      <td>0</td>\n",
       "      <td>1.0</td>\n",
       "      <td>0</td>\n",
       "      <td>0</td>\n",
       "      <td>0.0</td>\n",
       "      <td>0</td>\n",
       "      <td>1</td>\n",
       "      <td>0</td>\n",
       "      <td>1</td>\n",
       "      <td>0</td>\n",
       "      <td>0</td>\n",
       "      <td>0</td>\n",
       "      <td>0</td>\n",
       "      <td>0</td>\n",
       "      <td>1</td>\n",
       "      <td>0</td>\n",
       "      <td>0</td>\n",
       "      <td>0</td>\n",
       "      <td>1</td>\n",
       "      <td>28.0</td>\n",
       "      <td>8</td>\n",
       "      <td>6</td>\n",
       "      <td>0.0</td>\n",
       "    </tr>\n",
       "    <tr>\n",
       "      <th>2</th>\n",
       "      <td>0</td>\n",
       "      <td>0</td>\n",
       "      <td>0</td>\n",
       "      <td>0</td>\n",
       "      <td>0.0</td>\n",
       "      <td>0</td>\n",
       "      <td>0</td>\n",
       "      <td>0.0</td>\n",
       "      <td>0</td>\n",
       "      <td>1</td>\n",
       "      <td>0</td>\n",
       "      <td>1</td>\n",
       "      <td>1</td>\n",
       "      <td>0</td>\n",
       "      <td>0</td>\n",
       "      <td>0</td>\n",
       "      <td>1</td>\n",
       "      <td>0</td>\n",
       "      <td>0</td>\n",
       "      <td>0</td>\n",
       "      <td>0</td>\n",
       "      <td>0</td>\n",
       "      <td>24.0</td>\n",
       "      <td>6</td>\n",
       "      <td>6</td>\n",
       "      <td>0.0</td>\n",
       "    </tr>\n",
       "    <tr>\n",
       "      <th>3</th>\n",
       "      <td>0</td>\n",
       "      <td>0</td>\n",
       "      <td>0</td>\n",
       "      <td>0</td>\n",
       "      <td>0.0</td>\n",
       "      <td>0</td>\n",
       "      <td>0</td>\n",
       "      <td>0.0</td>\n",
       "      <td>0</td>\n",
       "      <td>1</td>\n",
       "      <td>0</td>\n",
       "      <td>1</td>\n",
       "      <td>1</td>\n",
       "      <td>0</td>\n",
       "      <td>0</td>\n",
       "      <td>0</td>\n",
       "      <td>1</td>\n",
       "      <td>1</td>\n",
       "      <td>0</td>\n",
       "      <td>0</td>\n",
       "      <td>0</td>\n",
       "      <td>0</td>\n",
       "      <td>23.0</td>\n",
       "      <td>8</td>\n",
       "      <td>6</td>\n",
       "      <td>0.0</td>\n",
       "    </tr>\n",
       "    <tr>\n",
       "      <th>4</th>\n",
       "      <td>0</td>\n",
       "      <td>0</td>\n",
       "      <td>0</td>\n",
       "      <td>0</td>\n",
       "      <td>0.0</td>\n",
       "      <td>0</td>\n",
       "      <td>0</td>\n",
       "      <td>0.0</td>\n",
       "      <td>0</td>\n",
       "      <td>1</td>\n",
       "      <td>0</td>\n",
       "      <td>1</td>\n",
       "      <td>1</td>\n",
       "      <td>0</td>\n",
       "      <td>0</td>\n",
       "      <td>0</td>\n",
       "      <td>0</td>\n",
       "      <td>0</td>\n",
       "      <td>0</td>\n",
       "      <td>0</td>\n",
       "      <td>0</td>\n",
       "      <td>0</td>\n",
       "      <td>27.0</td>\n",
       "      <td>8</td>\n",
       "      <td>8</td>\n",
       "      <td>0.0</td>\n",
       "    </tr>\n",
       "  </tbody>\n",
       "</table>\n",
       "</div>"
      ],
      "text/plain": [
       "   Gender  Family_Diabetes  Smoking  Alcohol  RegularMedicine  Pdiabetes  \\\n",
       "0       0                0        0        0              0.0          0   \n",
       "1       0                0        0        0              1.0          0   \n",
       "2       0                0        0        0              0.0          0   \n",
       "3       0                0        0        0              0.0          0   \n",
       "4       0                0        0        0              0.0          0   \n",
       "\n",
       "   UriationFreq  Diabetic  low BP  normal BP  no stress  occasional stress  \\\n",
       "0             0       0.0       0          0          0                  1   \n",
       "1             0       0.0       0          1          0                  1   \n",
       "2             0       0.0       0          1          0                  1   \n",
       "3             0       0.0       0          1          0                  1   \n",
       "4             0       0.0       0          1          0                  1   \n",
       "\n",
       "   healthy diet  unhealthy diet  0.5+ hr exercise  0 hr exercise  \\\n",
       "0             1               0                 0              0   \n",
       "1             0               0                 0              0   \n",
       "2             1               0                 0              0   \n",
       "3             1               0                 0              0   \n",
       "4             1               0                 0              0   \n",
       "\n",
       "   1+ hr exercise  50-59  60 or older  less than 40  high stress  \\\n",
       "0               1      1            0             0            0   \n",
       "1               0      1            0             0            0   \n",
       "2               1      0            0             0            0   \n",
       "3               1      1            0             0            0   \n",
       "4               0      0            0             0            0   \n",
       "\n",
       "   very unhealthy diet   BMI  Sleep  SoundSleep  pregnancies  \n",
       "0                    0  39.0      8           6          0.0  \n",
       "1                    1  28.0      8           6          0.0  \n",
       "2                    0  24.0      6           6          0.0  \n",
       "3                    0  23.0      8           6          0.0  \n",
       "4                    0  27.0      8           8          0.0  "
      ]
     },
     "execution_count": 63,
     "metadata": {},
     "output_type": "execute_result"
    }
   ],
   "source": [
    "diabetes = pd.concat([diabetes,diabetes3],axis = 1)\n",
    "diabetes.head()"
   ]
  },
  {
   "cell_type": "code",
   "execution_count": 64,
   "id": "34978684",
   "metadata": {},
   "outputs": [],
   "source": [
    "X = diabetes.drop('Diabetic', axis=1)\n",
    "y = diabetes['Diabetic']"
   ]
  },
  {
   "cell_type": "code",
   "execution_count": 65,
   "id": "bb999cae",
   "metadata": {},
   "outputs": [],
   "source": [
    "X_train, X_test, y_train, y_test = train_test_split(X, y, test_size = 0.3, random_state = 3)"
   ]
  },
  {
   "cell_type": "code",
   "execution_count": 66,
   "id": "f4634e5d",
   "metadata": {},
   "outputs": [
    {
     "name": "stdout",
     "output_type": "stream",
     "text": [
      "0.0    471\n",
      "1.0    191\n",
      "Name: Diabetic, dtype: int64\n",
      "0.0    210\n",
      "1.0     74\n",
      "Name: Diabetic, dtype: int64\n"
     ]
    }
   ],
   "source": [
    "print(y_train.value_counts())\n",
    "print(y_test.value_counts())\n",
    "# it looks like our data is imbalanced... we will use SMOTE algorithm to oversample positive test cases"
   ]
  },
  {
   "cell_type": "code",
   "execution_count": 67,
   "id": "abf40a6a",
   "metadata": {},
   "outputs": [],
   "source": [
    "def smote_data(X, y):\n",
    "    smotenc = SMOTENC(sampling_strategy = 1.0, categorical_features = list(range(0,22)), random_state = 3)\n",
    "    X_smote, y_smote = smotenc.fit_resample(X, y)\n",
    "    return X_smote, y_smote\n",
    "X_train_smote, y_train_smote = smote_data(X_train, y_train)\n",
    "\n",
    "# we don't want to run SMOTE algorithm on testing data, as doing so will alter the actual data and\n",
    "# thus result in an inaccurate view of model performance"
   ]
  },
  {
   "cell_type": "code",
   "execution_count": 68,
   "id": "9d0842c7",
   "metadata": {},
   "outputs": [
    {
     "name": "stdout",
     "output_type": "stream",
     "text": [
      "1.0    471\n",
      "0.0    471\n",
      "Name: Diabetic, dtype: int64\n"
     ]
    }
   ],
   "source": [
    "print(y_train_smote.value_counts())"
   ]
  },
  {
   "cell_type": "code",
   "execution_count": 69,
   "id": "18c56a3b",
   "metadata": {},
   "outputs": [],
   "source": [
    "# LOGISTIC REGRESSION"
   ]
  },
  {
   "cell_type": "code",
   "execution_count": 70,
   "id": "67edaa33",
   "metadata": {},
   "outputs": [
    {
     "data": {
      "text/plain": [
       "LogisticRegression(solver='liblinear')"
      ]
     },
     "execution_count": 70,
     "metadata": {},
     "output_type": "execute_result"
    }
   ],
   "source": [
    "logmodel = LogisticRegression(solver='liblinear')\n",
    "logmodel.fit(X_train,y_train)"
   ]
  },
  {
   "cell_type": "code",
   "execution_count": 71,
   "id": "6dc863e0",
   "metadata": {},
   "outputs": [],
   "source": [
    "pred = logmodel.predict(X_test)"
   ]
  },
  {
   "cell_type": "code",
   "execution_count": 72,
   "id": "ccfb00ec",
   "metadata": {},
   "outputs": [],
   "source": [
    "# Evaluate our data"
   ]
  },
  {
   "cell_type": "code",
   "execution_count": 73,
   "id": "05410251",
   "metadata": {},
   "outputs": [
    {
     "name": "stdout",
     "output_type": "stream",
     "text": [
      "              precision    recall  f1-score   support\n",
      "\n",
      "         0.0       0.92      0.93      0.93       210\n",
      "         1.0       0.79      0.78      0.79        74\n",
      "\n",
      "    accuracy                           0.89       284\n",
      "   macro avg       0.86      0.86      0.86       284\n",
      "weighted avg       0.89      0.89      0.89       284\n",
      "\n"
     ]
    }
   ],
   "source": [
    "print(classification_report(y_test,pred))"
   ]
  },
  {
   "cell_type": "code",
   "execution_count": 74,
   "id": "afa9196c",
   "metadata": {},
   "outputs": [
    {
     "name": "stdout",
     "output_type": "stream",
     "text": [
      "[[195  15]\n",
      " [ 16  58]]\n"
     ]
    }
   ],
   "source": [
    "print(confusion_matrix(y_test, pred))"
   ]
  },
  {
   "cell_type": "code",
   "execution_count": 75,
   "id": "a9b399b7",
   "metadata": {},
   "outputs": [
    {
     "data": {
      "text/plain": [
       "LogisticRegression(solver='liblinear')"
      ]
     },
     "execution_count": 75,
     "metadata": {},
     "output_type": "execute_result"
    }
   ],
   "source": [
    "# Now let's repeat using balanced data\n",
    "logmodel2 = LogisticRegression(solver='liblinear')\n",
    "logmodel2.fit(X_train_smote,y_train_smote)"
   ]
  },
  {
   "cell_type": "code",
   "execution_count": 76,
   "id": "4248c488",
   "metadata": {},
   "outputs": [],
   "source": [
    "pred1 = logmodel2.predict(X_test)"
   ]
  },
  {
   "cell_type": "code",
   "execution_count": 77,
   "id": "4b56ee8f",
   "metadata": {},
   "outputs": [
    {
     "name": "stdout",
     "output_type": "stream",
     "text": [
      "              precision    recall  f1-score   support\n",
      "\n",
      "         0.0       0.93      0.83      0.88       210\n",
      "         1.0       0.63      0.81      0.71        74\n",
      "\n",
      "    accuracy                           0.83       284\n",
      "   macro avg       0.78      0.82      0.79       284\n",
      "weighted avg       0.85      0.83      0.83       284\n",
      "\n"
     ]
    }
   ],
   "source": [
    "print(classification_report(y_test,pred1))\n",
    "# we performed better with unbalanced data"
   ]
  },
  {
   "cell_type": "code",
   "execution_count": 78,
   "id": "f5cf8a3b",
   "metadata": {},
   "outputs": [],
   "source": [
    "# INTERPRETING OUR DATA\n",
    "# 92% of those our model predicted would contract diabetes actually did\n",
    "# 79% of those our model predicted would not contract diabetes did not\n",
    "# 93% of those who did not contract diabetes were correctly identified\n",
    "# 78% of those who did contract diabetes were correctly identified\n",
    "\n",
    "# our model is overall strong, but could perhaps have improved performance in predicting positive cases \n",
    "# for predicting diabetes we will privliege higher RECALL over PRECISION\n",
    "# retrain model using gridsearch to identify best parameters"
   ]
  },
  {
   "cell_type": "code",
   "execution_count": 79,
   "id": "de66e1bd",
   "metadata": {},
   "outputs": [],
   "source": [
    "grid = {\n",
    "    'C': [0.1,1, 10, 100, 1000],\n",
    "    'penalty': ['l1', 'l2']\n",
    "        }"
   ]
  },
  {
   "cell_type": "code",
   "execution_count": 80,
   "id": "aa939857",
   "metadata": {},
   "outputs": [],
   "source": [
    "gs = GridSearchCV(estimator = LogisticRegression(solver='liblinear', random_state = 3), param_grid = grid, scoring = 'recall',\n",
    "                 refit = True, verbose = 1)"
   ]
  },
  {
   "cell_type": "code",
   "execution_count": 81,
   "id": "39105ef8",
   "metadata": {},
   "outputs": [
    {
     "name": "stdout",
     "output_type": "stream",
     "text": [
      "Fitting 5 folds for each of 10 candidates, totalling 50 fits\n"
     ]
    },
    {
     "data": {
      "text/plain": [
       "GridSearchCV(estimator=LogisticRegression(random_state=3, solver='liblinear'),\n",
       "             param_grid={'C': [0.1, 1, 10, 100, 1000], 'penalty': ['l1', 'l2']},\n",
       "             scoring='recall', verbose=1)"
      ]
     },
     "execution_count": 81,
     "metadata": {},
     "output_type": "execute_result"
    }
   ],
   "source": [
    "gs.fit(X_train, y_train)"
   ]
  },
  {
   "cell_type": "code",
   "execution_count": 82,
   "id": "dd3d3177",
   "metadata": {},
   "outputs": [
    {
     "data": {
      "text/plain": [
       "{'C': 10, 'penalty': 'l1'}"
      ]
     },
     "execution_count": 82,
     "metadata": {},
     "output_type": "execute_result"
    }
   ],
   "source": [
    "# check best parameters / estimator\n",
    "gs.best_params_"
   ]
  },
  {
   "cell_type": "code",
   "execution_count": 83,
   "id": "7070be54",
   "metadata": {},
   "outputs": [
    {
     "data": {
      "text/plain": [
       "LogisticRegression(C=10, penalty='l1', random_state=3, solver='liblinear')"
      ]
     },
     "execution_count": 83,
     "metadata": {},
     "output_type": "execute_result"
    }
   ],
   "source": [
    "gs.best_estimator_"
   ]
  },
  {
   "cell_type": "code",
   "execution_count": 84,
   "id": "ced599bc",
   "metadata": {},
   "outputs": [],
   "source": [
    "gs_predictions = gs.predict(X_test)"
   ]
  },
  {
   "cell_type": "code",
   "execution_count": 85,
   "id": "422ac391",
   "metadata": {},
   "outputs": [
    {
     "name": "stdout",
     "output_type": "stream",
     "text": [
      "              precision    recall  f1-score   support\n",
      "\n",
      "         0.0       0.94      0.92      0.93       210\n",
      "         1.0       0.79      0.82      0.81        74\n",
      "\n",
      "    accuracy                           0.90       284\n",
      "   macro avg       0.86      0.87      0.87       284\n",
      "weighted avg       0.90      0.90      0.90       284\n",
      "\n"
     ]
    }
   ],
   "source": [
    "print(classification_report(y_test, gs_predictions))"
   ]
  },
  {
   "cell_type": "code",
   "execution_count": 86,
   "id": "f52acaf4",
   "metadata": {},
   "outputs": [],
   "source": [
    "# not much improvement!... looks like our model is maxed out of possible improvements"
   ]
  },
  {
   "cell_type": "code",
   "execution_count": 87,
   "id": "dc08e9d6",
   "metadata": {},
   "outputs": [],
   "source": [
    "# KNN"
   ]
  },
  {
   "cell_type": "code",
   "execution_count": 88,
   "id": "2a7fbbdd",
   "metadata": {},
   "outputs": [],
   "source": [
    "from sklearn.neighbors import KNeighborsClassifier"
   ]
  },
  {
   "cell_type": "code",
   "execution_count": 89,
   "id": "910c88b5",
   "metadata": {},
   "outputs": [],
   "source": [
    "knn = KNeighborsClassifier(n_neighbors = 5)"
   ]
  },
  {
   "cell_type": "code",
   "execution_count": 90,
   "id": "03e61f6e",
   "metadata": {},
   "outputs": [
    {
     "data": {
      "text/plain": [
       "KNeighborsClassifier()"
      ]
     },
     "execution_count": 90,
     "metadata": {},
     "output_type": "execute_result"
    }
   ],
   "source": [
    "knn.fit(X_train_smote,y_train_smote)"
   ]
  },
  {
   "cell_type": "code",
   "execution_count": 91,
   "id": "32b9ce61",
   "metadata": {},
   "outputs": [],
   "source": [
    "pred2 = knn.predict(X_test)"
   ]
  },
  {
   "cell_type": "code",
   "execution_count": 92,
   "id": "a6f42099",
   "metadata": {},
   "outputs": [
    {
     "name": "stdout",
     "output_type": "stream",
     "text": [
      "              precision    recall  f1-score   support\n",
      "\n",
      "         0.0       0.89      0.89      0.89       210\n",
      "         1.0       0.69      0.70      0.70        74\n",
      "\n",
      "    accuracy                           0.84       284\n",
      "   macro avg       0.79      0.80      0.80       284\n",
      "weighted avg       0.84      0.84      0.84       284\n",
      "\n"
     ]
    }
   ],
   "source": [
    "print(classification_report(y_test, pred2))"
   ]
  },
  {
   "cell_type": "code",
   "execution_count": 93,
   "id": "2a8cdde8",
   "metadata": {},
   "outputs": [],
   "source": [
    "# first we need to standardize the values of diff columns\n",
    "from sklearn.preprocessing import StandardScaler\n",
    "scaler = StandardScaler()"
   ]
  },
  {
   "cell_type": "code",
   "execution_count": 94,
   "id": "c7c9399c",
   "metadata": {},
   "outputs": [],
   "source": [
    "scaler.fit(diabetes.drop('Diabetic',axis=1))\n",
    "scaled_features = scaler.transform(diabetes.drop('Diabetic',axis=1))"
   ]
  },
  {
   "cell_type": "code",
   "execution_count": 95,
   "id": "6edbcbae",
   "metadata": {},
   "outputs": [],
   "source": [
    "# dimension is too high, we need to reduce using PCA\n",
    "# find best number of dimensions to reduce to"
   ]
  },
  {
   "cell_type": "code",
   "execution_count": 96,
   "id": "d29db0cd",
   "metadata": {},
   "outputs": [],
   "source": [
    "error_rate = []\n",
    "\n",
    "for i in range(1,25):\n",
    "    pca = PCA(n_components = i)\n",
    "    pca.fit(scaled_features)\n",
    "    scaled_features2 = pca.transform(scaled_features)\n",
    "    X_train2, X_test2, y_train2, y_test2 = train_test_split(scaled_features2, diabetes['Diabetic'],\n",
    "                                                    test_size=0.30, random_state = 3)\n",
    "    knn = KNeighborsClassifier(n_neighbors=5)\n",
    "    knn.fit(X_train2,y_train2)\n",
    "    pred_i = knn.predict(X_test2)\n",
    "    error_rate.append(np.mean(pred_i != y_test))"
   ]
  },
  {
   "cell_type": "code",
   "execution_count": 97,
   "id": "8f807bd2",
   "metadata": {},
   "outputs": [
    {
     "data": {
      "text/plain": [
       "Text(0, 0.5, 'Error Rate')"
      ]
     },
     "execution_count": 97,
     "metadata": {},
     "output_type": "execute_result"
    },
    {
     "data": {
      "image/png": "[encoded data removed]",
      "text/plain": [
       "<Figure size 720x432 with 1 Axes>"
      ]
     },
     "metadata": {
      "needs_background": "light"
     },
     "output_type": "display_data"
    }
   ],
   "source": [
    "plt.figure(figsize=(10,6))\n",
    "plt.plot(range(1,25),error_rate,color='blue', linestyle='dashed', marker='o',\n",
    "         markerfacecolor='red', markersize=10)\n",
    "plt.title('Error Rate vs. Dimension')\n",
    "plt.xlabel('Dimension')\n",
    "plt.ylabel('Error Rate')\n",
    "# num of dimensions that most minimizes error is 14"
   ]
  },
  {
   "cell_type": "code",
   "execution_count": 98,
   "id": "0d413256",
   "metadata": {},
   "outputs": [],
   "source": [
    "pca = PCA(n_components=14)"
   ]
  },
  {
   "cell_type": "code",
   "execution_count": 99,
   "id": "ea767664",
   "metadata": {},
   "outputs": [
    {
     "data": {
      "text/plain": [
       "PCA(n_components=14)"
      ]
     },
     "execution_count": 99,
     "metadata": {},
     "output_type": "execute_result"
    }
   ],
   "source": [
    "pca.fit(scaled_features)"
   ]
  },
  {
   "cell_type": "code",
   "execution_count": 100,
   "id": "e227deb6",
   "metadata": {},
   "outputs": [],
   "source": [
    "scaled_features2 = pca.transform(scaled_features)"
   ]
  },
  {
   "cell_type": "code",
   "execution_count": 101,
   "id": "9956c576",
   "metadata": {},
   "outputs": [
    {
     "data": {
      "text/plain": [
       "(946, 25)"
      ]
     },
     "execution_count": 101,
     "metadata": {},
     "output_type": "execute_result"
    }
   ],
   "source": [
    "scaled_features.shape"
   ]
  },
  {
   "cell_type": "code",
   "execution_count": 102,
   "id": "3eada5d8",
   "metadata": {},
   "outputs": [
    {
     "data": {
      "text/plain": [
       "(946, 14)"
      ]
     },
     "execution_count": 102,
     "metadata": {},
     "output_type": "execute_result"
    }
   ],
   "source": [
    "scaled_features2.shape\n",
    "# successfully reduced dimension of data"
   ]
  },
  {
   "cell_type": "code",
   "execution_count": 103,
   "id": "adebbeb2",
   "metadata": {},
   "outputs": [],
   "source": [
    "X_train2, X_test2, y_train2, y_test2 = train_test_split(scaled_features2, diabetes['Diabetic'],\n",
    "                                                    test_size=0.30, random_state = 3)"
   ]
  },
  {
   "cell_type": "code",
   "execution_count": 104,
   "id": "7996e61e",
   "metadata": {},
   "outputs": [],
   "source": [
    "def smote_data2(X, y):\n",
    "    smotenc = SMOTENC(sampling_strategy = 1.0, categorical_features = list(range(0,10)), random_state = 3)\n",
    "    X_smote, y_smote = smotenc.fit_resample(X, y)\n",
    "    return X_smote, y_smote\n",
    "X_train2_smote, y_train2_smote = smote_data2(X_train2, y_train2)"
   ]
  },
  {
   "cell_type": "code",
   "execution_count": 105,
   "id": "95a49bc1",
   "metadata": {},
   "outputs": [],
   "source": [
    "knn = KNeighborsClassifier(n_neighbors = 5)"
   ]
  },
  {
   "cell_type": "code",
   "execution_count": 106,
   "id": "5fc75574",
   "metadata": {},
   "outputs": [
    {
     "data": {
      "text/plain": [
       "KNeighborsClassifier()"
      ]
     },
     "execution_count": 106,
     "metadata": {},
     "output_type": "execute_result"
    }
   ],
   "source": [
    "knn.fit(X_train2_smote, y_train2_smote)"
   ]
  },
  {
   "cell_type": "code",
   "execution_count": 107,
   "id": "577d41c7",
   "metadata": {},
   "outputs": [],
   "source": [
    "pred2 = knn.predict(X_test2)"
   ]
  },
  {
   "cell_type": "code",
   "execution_count": 108,
   "id": "47aecb08",
   "metadata": {},
   "outputs": [
    {
     "name": "stdout",
     "output_type": "stream",
     "text": [
      "              precision    recall  f1-score   support\n",
      "\n",
      "         0.0       0.92      0.93      0.93       210\n",
      "         1.0       0.79      0.78      0.79        74\n",
      "\n",
      "    accuracy                           0.89       284\n",
      "   macro avg       0.86      0.86      0.86       284\n",
      "weighted avg       0.89      0.89      0.89       284\n",
      "\n"
     ]
    }
   ],
   "source": [
    "print(classification_report(y_test2, pred))"
   ]
  },
  {
   "cell_type": "code",
   "execution_count": 109,
   "id": "71308031",
   "metadata": {},
   "outputs": [],
   "source": [
    "# our KNN model still appears significantly less effective than the logistic regression model.\n",
    "# let's try to optimize k value"
   ]
  },
  {
   "cell_type": "code",
   "execution_count": 110,
   "id": "ffbea567",
   "metadata": {},
   "outputs": [],
   "source": [
    "error_rate = []\n",
    "\n",
    "for i in range(1,40):\n",
    "    \n",
    "    knn = KNeighborsClassifier(n_neighbors=i)\n",
    "    knn.fit(X_train,y_train)\n",
    "    pred_i = knn.predict(X_test)\n",
    "    error_rate.append(np.mean(pred_i != y_test))"
   ]
  },
  {
   "cell_type": "code",
   "execution_count": 111,
   "id": "5b0a3cba",
   "metadata": {},
   "outputs": [
    {
     "data": {
      "text/plain": [
       "Text(0, 0.5, 'Error Rate')"
      ]
     },
     "execution_count": 111,
     "metadata": {},
     "output_type": "execute_result"
    },
    {
     "data": {
      "image/png": "[encoded data removed]",
      "text/plain": [
       "<Figure size 720x432 with 1 Axes>"
      ]
     },
     "metadata": {
      "needs_background": "light"
     },
     "output_type": "display_data"
    }
   ],
   "source": [
    "plt.figure(figsize=(10,6))\n",
    "plt.plot(range(1,40),error_rate,color='blue', linestyle='dashed', marker='o',\n",
    "         markerfacecolor='red', markersize=10)\n",
    "plt.title('Error Rate vs. K Value')\n",
    "plt.xlabel('K')\n",
    "plt.ylabel('Error Rate')\n",
    "\n",
    "# k value of 1 provides best estimate"
   ]
  },
  {
   "cell_type": "code",
   "execution_count": 112,
   "id": "258f42c5",
   "metadata": {},
   "outputs": [
    {
     "data": {
      "text/plain": [
       "KNeighborsClassifier(n_neighbors=1)"
      ]
     },
     "execution_count": 112,
     "metadata": {},
     "output_type": "execute_result"
    }
   ],
   "source": [
    "# retrain model with k=1\n",
    "knn2 = KNeighborsClassifier(n_neighbors = 1)\n",
    "knn2.fit(X_train2, y_train2)"
   ]
  },
  {
   "cell_type": "code",
   "execution_count": 113,
   "id": "89dbd443",
   "metadata": {},
   "outputs": [],
   "source": [
    "pred2 = knn2.predict(X_test2)"
   ]
  },
  {
   "cell_type": "code",
   "execution_count": 114,
   "id": "5476a377",
   "metadata": {},
   "outputs": [
    {
     "name": "stdout",
     "output_type": "stream",
     "text": [
      "              precision    recall  f1-score   support\n",
      "\n",
      "         0.0       0.94      0.93      0.94       211\n",
      "         1.0       0.81      0.82      0.82        73\n",
      "\n",
      "    accuracy                           0.90       284\n",
      "   macro avg       0.87      0.88      0.88       284\n",
      "weighted avg       0.91      0.90      0.91       284\n",
      "\n"
     ]
    }
   ],
   "source": [
    "print(classification_report(pred2, y_test2))\n",
    "# recall is significantly improved so we will use new k value\n",
    "# now try grid search to improve remaining hyperparameters"
   ]
  },
  {
   "cell_type": "code",
   "execution_count": 115,
   "id": "90a3849c",
   "metadata": {},
   "outputs": [],
   "source": [
    "grid2 = {\n",
    "    'n_neighbors': [1],\n",
    "    'metric': ['euclidean', 'manhattan', 'minkowski'],\n",
    "    'weights': ['uniform', 'distance']\n",
    "        }"
   ]
  },
  {
   "cell_type": "code",
   "execution_count": 116,
   "id": "60effc93",
   "metadata": {},
   "outputs": [],
   "source": [
    "gs2 = GridSearchCV(estimator = KNeighborsClassifier(), param_grid = grid2, scoring = 'recall',\n",
    "                 refit = True, verbose = 1)"
   ]
  },
  {
   "cell_type": "code",
   "execution_count": 117,
   "id": "082eea14",
   "metadata": {
    "scrolled": true
   },
   "outputs": [
    {
     "name": "stdout",
     "output_type": "stream",
     "text": [
      "Fitting 5 folds for each of 6 candidates, totalling 30 fits\n"
     ]
    },
    {
     "data": {
      "text/plain": [
       "GridSearchCV(estimator=KNeighborsClassifier(),\n",
       "             param_grid={'metric': ['euclidean', 'manhattan', 'minkowski'],\n",
       "                         'n_neighbors': [1],\n",
       "                         'weights': ['uniform', 'distance']},\n",
       "             scoring='recall', verbose=1)"
      ]
     },
     "execution_count": 117,
     "metadata": {},
     "output_type": "execute_result"
    }
   ],
   "source": [
    "gs2.fit(X_train2, y_train2)"
   ]
  },
  {
   "cell_type": "code",
   "execution_count": 118,
   "id": "c1ae73d4",
   "metadata": {},
   "outputs": [
    {
     "data": {
      "text/plain": [
       "{'metric': 'manhattan', 'n_neighbors': 1, 'weights': 'uniform'}"
      ]
     },
     "execution_count": 118,
     "metadata": {},
     "output_type": "execute_result"
    }
   ],
   "source": [
    "gs2.best_params_"
   ]
  },
  {
   "cell_type": "code",
   "execution_count": 119,
   "id": "e39f82b4",
   "metadata": {},
   "outputs": [],
   "source": [
    "pred3 = gs2.predict(X_test2)"
   ]
  },
  {
   "cell_type": "code",
   "execution_count": 120,
   "id": "00134354",
   "metadata": {},
   "outputs": [
    {
     "name": "stdout",
     "output_type": "stream",
     "text": [
      "              precision    recall  f1-score   support\n",
      "\n",
      "         0.0       0.94      0.93      0.94       211\n",
      "         1.0       0.81      0.82      0.82        73\n",
      "\n",
      "    accuracy                           0.90       284\n",
      "   macro avg       0.87      0.88      0.88       284\n",
      "weighted avg       0.91      0.90      0.91       284\n",
      "\n"
     ]
    }
   ],
   "source": [
    "print(classification_report(pred3, y_test))\n",
    "# our model was already optimized by tuning the k parameter, so tuning the other hyperparameters didn't really do much"
   ]
  },
  {
   "cell_type": "code",
   "execution_count": 121,
   "id": "fca41179",
   "metadata": {},
   "outputs": [],
   "source": [
    "# Now we would try another algorithm: Support Vector Machines (SVM)"
   ]
  },
  {
   "cell_type": "code",
   "execution_count": 122,
   "id": "2c321b51",
   "metadata": {},
   "outputs": [],
   "source": [
    "svc_model = SVC()"
   ]
  },
  {
   "cell_type": "code",
   "execution_count": 123,
   "id": "74aa123a",
   "metadata": {},
   "outputs": [
    {
     "data": {
      "text/plain": [
       "SVC()"
      ]
     },
     "execution_count": 123,
     "metadata": {},
     "output_type": "execute_result"
    }
   ],
   "source": [
    "svc_model.fit(X_train_smote,y_train_smote)"
   ]
  },
  {
   "cell_type": "code",
   "execution_count": 124,
   "id": "e8e3dc11",
   "metadata": {},
   "outputs": [],
   "source": [
    "pred4 = svc_model.predict(X_test)"
   ]
  },
  {
   "cell_type": "code",
   "execution_count": 125,
   "id": "9bdbd767",
   "metadata": {},
   "outputs": [
    {
     "name": "stdout",
     "output_type": "stream",
     "text": [
      "              precision    recall  f1-score   support\n",
      "\n",
      "         0.0       0.92      0.93      0.93       210\n",
      "         1.0       0.79      0.78      0.79        74\n",
      "\n",
      "    accuracy                           0.89       284\n",
      "   macro avg       0.86      0.86      0.86       284\n",
      "weighted avg       0.89      0.89      0.89       284\n",
      "\n"
     ]
    }
   ],
   "source": [
    "print(classification_report(y_test,pred))"
   ]
  },
  {
   "cell_type": "code",
   "execution_count": 134,
   "id": "d6c8ad0d",
   "metadata": {},
   "outputs": [],
   "source": [
    "grid_svm = {\n",
    "    'C': [0.1,1,10],\n",
    "    'kernel': ['poly', 'sigmoid','rbf','linear'],\n",
    "    'degree': [2,3,4]\n",
    "        }"
   ]
  },
  {
   "cell_type": "code",
   "execution_count": 135,
   "id": "6d379ae4",
   "metadata": {},
   "outputs": [],
   "source": [
    "gs_svm = GridSearchCV(estimator =SVC(), param_grid = grid_svm, scoring = 'recall')"
   ]
  },
  {
   "cell_type": "code",
   "execution_count": 136,
   "id": "5e4afd04",
   "metadata": {},
   "outputs": [
    {
     "data": {
      "text/plain": [
       "GridSearchCV(estimator=SVC(),\n",
       "             param_grid={'C': [0.1, 1, 10], 'degree': [2, 3, 4],\n",
       "                         'kernel': ['poly', 'sigmoid', 'rbf', 'linear']},\n",
       "             scoring='recall')"
      ]
     },
     "execution_count": 136,
     "metadata": {},
     "output_type": "execute_result"
    }
   ],
   "source": [
    "gs_svm.fit(X_train_smote, y_train_smote)"
   ]
  },
  {
   "cell_type": "code",
   "execution_count": 137,
   "id": "fdce4bb6",
   "metadata": {},
   "outputs": [
    {
     "data": {
      "text/plain": [
       "{'C': 10, 'degree': 2, 'kernel': 'linear'}"
      ]
     },
     "execution_count": 137,
     "metadata": {},
     "output_type": "execute_result"
    }
   ],
   "source": [
    "gs_svm.best_params_"
   ]
  },
  {
   "cell_type": "code",
   "execution_count": 138,
   "id": "c38f6daa",
   "metadata": {},
   "outputs": [
    {
     "data": {
      "text/plain": [
       "SVC(C=10, degree=2, kernel='linear')"
      ]
     },
     "execution_count": 138,
     "metadata": {},
     "output_type": "execute_result"
    }
   ],
   "source": [
    "gs_svm.best_estimator_"
   ]
  },
  {
   "cell_type": "code",
   "execution_count": 139,
   "id": "2dd9df93",
   "metadata": {},
   "outputs": [],
   "source": [
    "gs_svm_predictions = gs_svm.predict(X_test)"
   ]
  },
  {
   "cell_type": "code",
   "execution_count": 140,
   "id": "dde87218",
   "metadata": {},
   "outputs": [
    {
     "name": "stdout",
     "output_type": "stream",
     "text": [
      "              precision    recall  f1-score   support\n",
      "\n",
      "         0.0       0.91      0.84      0.87       210\n",
      "         1.0       0.63      0.77      0.69        74\n",
      "\n",
      "    accuracy                           0.82       284\n",
      "   macro avg       0.77      0.80      0.78       284\n",
      "weighted avg       0.84      0.82      0.83       284\n",
      "\n"
     ]
    }
   ],
   "source": [
    "print(classification_report(y_test,gs_svm_predictions))\n",
    "# uh oh, our model somehow got worse after optimizing through grid search!"
   ]
  },
  {
   "cell_type": "code",
   "execution_count": 141,
   "id": "2d9ebc5e",
   "metadata": {},
   "outputs": [],
   "source": [
    "# Final classification algorithm: Decision tree / random forest"
   ]
  },
  {
   "cell_type": "code",
   "execution_count": 142,
   "id": "8940b3e4",
   "metadata": {},
   "outputs": [],
   "source": [
    "dtree = DecisionTreeClassifier()"
   ]
  },
  {
   "cell_type": "code",
   "execution_count": 143,
   "id": "c97b3d26",
   "metadata": {},
   "outputs": [
    {
     "data": {
      "text/plain": [
       "DecisionTreeClassifier()"
      ]
     },
     "execution_count": 143,
     "metadata": {},
     "output_type": "execute_result"
    }
   ],
   "source": [
    "dtree.fit(X_train,y_train)"
   ]
  },
  {
   "cell_type": "code",
   "execution_count": 144,
   "id": "49742516",
   "metadata": {},
   "outputs": [],
   "source": [
    "pred6 = dtree.predict(X_test)"
   ]
  },
  {
   "cell_type": "code",
   "execution_count": 145,
   "id": "4c02180b",
   "metadata": {},
   "outputs": [
    {
     "name": "stdout",
     "output_type": "stream",
     "text": [
      "              precision    recall  f1-score   support\n",
      "\n",
      "         0.0       0.96      0.94      0.95       210\n",
      "         1.0       0.83      0.88      0.86        74\n",
      "\n",
      "    accuracy                           0.92       284\n",
      "   macro avg       0.89      0.91      0.90       284\n",
      "weighted avg       0.92      0.92      0.92       284\n",
      "\n"
     ]
    }
   ],
   "source": [
    "print(classification_report(y_test, pred6))"
   ]
  },
  {
   "cell_type": "code",
   "execution_count": 146,
   "id": "93274bc8",
   "metadata": {},
   "outputs": [],
   "source": [
    "# Wow, the decision tree classification model has amazing performance!\n",
    "# Let's try 'bagging' the decision trees through the random forest classifier\n",
    "# to see if we can further optimize performance"
   ]
  },
  {
   "cell_type": "code",
   "execution_count": 147,
   "id": "cc438b1a",
   "metadata": {},
   "outputs": [
    {
     "data": {
      "text/plain": [
       "RandomForestClassifier()"
      ]
     },
     "execution_count": 147,
     "metadata": {},
     "output_type": "execute_result"
    }
   ],
   "source": [
    "from sklearn.ensemble import RandomForestClassifier\n",
    "rfc = RandomForestClassifier(n_estimators=100)\n",
    "rfc.fit(X_train, y_train)"
   ]
  },
  {
   "cell_type": "code",
   "execution_count": 148,
   "id": "a8850a5a",
   "metadata": {},
   "outputs": [],
   "source": [
    "pred7 = rfc.predict(X_test)"
   ]
  },
  {
   "cell_type": "code",
   "execution_count": 149,
   "id": "205724ce",
   "metadata": {},
   "outputs": [
    {
     "name": "stdout",
     "output_type": "stream",
     "text": [
      "              precision    recall  f1-score   support\n",
      "\n",
      "         0.0       0.95      0.93      0.94       214\n",
      "         1.0       0.81      0.86      0.83        70\n",
      "\n",
      "    accuracy                           0.92       284\n",
      "   macro avg       0.88      0.90      0.89       284\n",
      "weighted avg       0.92      0.92      0.92       284\n",
      "\n"
     ]
    }
   ],
   "source": [
    "print(classification_report(pred7, y_test))"
   ]
  },
  {
   "cell_type": "code",
   "execution_count": 150,
   "id": "e6c103b1",
   "metadata": {},
   "outputs": [],
   "source": [
    "# it appears as though we actually experienced slightly poorer performance with bagging\n",
    "# lets use gridsearch to optimize hyperparameters"
   ]
  },
  {
   "cell_type": "code",
   "execution_count": 151,
   "id": "89b66e2c",
   "metadata": {},
   "outputs": [],
   "source": [
    "grid_rf = {\n",
    "    'n_estimators': [100, 200, 300],\n",
    "          'criterion': ['gini', 'entropy'],\n",
    "          'max_depth': [5, 10, 15]\n",
    "        }"
   ]
  },
  {
   "cell_type": "code",
   "execution_count": 152,
   "id": "9613fbce",
   "metadata": {},
   "outputs": [],
   "source": [
    "gs3 = GridSearchCV(estimator = RandomForestClassifier(), param_grid = grid_rf, scoring = 'recall',\n",
    "                 refit = True, verbose = 1)"
   ]
  },
  {
   "cell_type": "code",
   "execution_count": 153,
   "id": "e071f194",
   "metadata": {},
   "outputs": [
    {
     "name": "stdout",
     "output_type": "stream",
     "text": [
      "Fitting 5 folds for each of 18 candidates, totalling 90 fits\n"
     ]
    },
    {
     "data": {
      "text/plain": [
       "GridSearchCV(estimator=RandomForestClassifier(),\n",
       "             param_grid={'criterion': ['gini', 'entropy'],\n",
       "                         'max_depth': [5, 10, 15],\n",
       "                         'n_estimators': [100, 200, 300]},\n",
       "             scoring='recall', verbose=1)"
      ]
     },
     "execution_count": 153,
     "metadata": {},
     "output_type": "execute_result"
    }
   ],
   "source": [
    "gs3.fit(X_train, y_train)"
   ]
  },
  {
   "cell_type": "code",
   "execution_count": 154,
   "id": "5ea33d64",
   "metadata": {},
   "outputs": [
    {
     "data": {
      "text/plain": [
       "{'criterion': 'gini', 'max_depth': 10, 'n_estimators': 200}"
      ]
     },
     "execution_count": 154,
     "metadata": {},
     "output_type": "execute_result"
    }
   ],
   "source": [
    "gs3.best_params_"
   ]
  },
  {
   "cell_type": "code",
   "execution_count": 157,
   "id": "75197035",
   "metadata": {},
   "outputs": [],
   "source": [
    "gs3_predictions = gs3.predict(X_test)"
   ]
  },
  {
   "cell_type": "code",
   "execution_count": 158,
   "id": "6e47a820",
   "metadata": {},
   "outputs": [
    {
     "name": "stdout",
     "output_type": "stream",
     "text": [
      "              precision    recall  f1-score   support\n",
      "\n",
      "         0.0       0.95      0.93      0.94       214\n",
      "         1.0       0.81      0.86      0.83        70\n",
      "\n",
      "    accuracy                           0.92       284\n",
      "   macro avg       0.88      0.90      0.89       284\n",
      "weighted avg       0.92      0.92      0.92       284\n",
      "\n"
     ]
    }
   ],
   "source": [
    "# absolutely zero change\n",
    "print(classification_report(gs3_predictions, y_test))"
   ]
  },
  {
   "cell_type": "code",
   "execution_count": null,
   "id": "127b6cbb",
   "metadata": {},
   "outputs": [],
   "source": [
    "# bagging didn't work, let's try using a boosting algorithm instead to improve our model"
   ]
  },
  {
   "cell_type": "code",
   "execution_count": 159,
   "id": "9048e2d4",
   "metadata": {},
   "outputs": [],
   "source": [
    "from sklearn.ensemble import AdaBoostClassifier\n",
    "from sklearn.datasets import make_classification"
   ]
  },
  {
   "cell_type": "code",
   "execution_count": 161,
   "id": "a50c2c44",
   "metadata": {},
   "outputs": [],
   "source": [
    "ada = AdaBoostClassifier(base_estimator = DecisionTreeClassifier(max_depth = 10), n_estimators=200, random_state=0, algorithm='SAMME')"
   ]
  },
  {
   "cell_type": "code",
   "execution_count": 162,
   "id": "791801bd",
   "metadata": {},
   "outputs": [
    {
     "data": {
      "text/plain": [
       "AdaBoostClassifier(algorithm='SAMME',\n",
       "                   base_estimator=DecisionTreeClassifier(max_depth=10),\n",
       "                   n_estimators=200, random_state=0)"
      ]
     },
     "execution_count": 162,
     "metadata": {},
     "output_type": "execute_result"
    }
   ],
   "source": [
    "ada.fit(X_train, y_train)"
   ]
  },
  {
   "cell_type": "code",
   "execution_count": 163,
   "id": "791e1ebb",
   "metadata": {},
   "outputs": [],
   "source": [
    "pred8 = ada.predict(X_test)"
   ]
  },
  {
   "cell_type": "code",
   "execution_count": 164,
   "id": "8155c3e1",
   "metadata": {},
   "outputs": [
    {
     "name": "stdout",
     "output_type": "stream",
     "text": [
      "              precision    recall  f1-score   support\n",
      "\n",
      "         0.0       0.96      0.95      0.96       213\n",
      "         1.0       0.85      0.89      0.87        71\n",
      "\n",
      "    accuracy                           0.93       284\n",
      "   macro avg       0.91      0.92      0.91       284\n",
      "weighted avg       0.93      0.93      0.93       284\n",
      "\n"
     ]
    }
   ],
   "source": [
    "# performace successfully improved!!\n",
    "print(classification_report(pred8, y_test))"
   ]
  },
  {
   "cell_type": "code",
   "execution_count": null,
   "id": "5467b339",
   "metadata": {},
   "outputs": [],
   "source": [
    "# CONCLUSION"
   ]
  },
  {
   "cell_type": "code",
   "execution_count": null,
   "id": "91a9fc1d",
   "metadata": {},
   "outputs": [],
   "source": [
    "# When comparing the best achieved model performance of every classification algorithm we tested -\n",
    "# Logistic Regression, K Nearest Neighbors, Support Vector Machines, and Decision Tree / Random Forest,\n",
    "# implementing a simple decision tree (with boosting) by far achieved the performance. However, this \n",
    "# was likely because of the nature of our dataset being comprised of largely categorical (0/1) variables,\n",
    "# which makes node-splitting extremely simple. Therefore, further research is needed to see how such an\n",
    "# approach would work in general when predicting diabetes incidence in a population."
   ]
  }
 ],
 "metadata": {
  "kernelspec": {
   "display_name": "Python 3 (ipykernel)",
   "language": "python",
   "name": "python3"
  },
  "language_info": {
   "codemirror_mode": {
    "name": "ipython",
    "version": 3
   },
   "file_extension": ".py",
   "mimetype": "text/x-python",
   "name": "python",
   "nbconvert_exporter": "python",
   "pygments_lexer": "ipython3",
   "version": "3.9.7"
  }
 },
 "nbformat": 4,
 "nbformat_minor": 5
}
